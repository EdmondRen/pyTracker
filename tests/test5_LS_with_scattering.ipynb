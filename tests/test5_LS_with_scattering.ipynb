{
 "cells": [
  {
   "cell_type": "code",
   "execution_count": 1,
   "id": "04255863",
   "metadata": {},
   "outputs": [],
   "source": [
    "try:\n",
    "    from tqdm import tqdm\n",
    "except ImportError:\n",
    "    def tqdm(iterator, *args, **kwargs):\n",
    "        return iterator\n",
    "    \n",
    "import numpy as np\n",
    "import scipy as sp\n",
    "from scipy import constants\n",
    "from pylab import *\n",
    "import joblib\n",
    "from numpy.linalg import inv\n",
    "import iminuit\n",
    "\n",
    "import os,sys\n",
    "from importlib import reload\n",
    "import copy\n",
    "from collections import namedtuple\n",
    "\n",
    "sys.path.append(\"../tracker\")"
   ]
  },
  {
   "cell_type": "code",
   "execution_count": 2,
   "id": "e99d309e",
   "metadata": {},
   "outputs": [
    {
     "data": {
      "text/plain": [
       "<module 'utilities' from '../tracker\\\\utilities.py'>"
      ]
     },
     "execution_count": 2,
     "metadata": {},
     "output_type": "execute_result"
    }
   ],
   "source": [
    "import kalmanfilter as KF\n",
    "import utilities as Util\n",
    "import datatypes\n",
    "import vertexfinder as VF\n",
    "\n",
    "reload(VF)\n",
    "reload(Util)"
   ]
  },
  {
   "cell_type": "code",
   "execution_count": 3,
   "id": "f3fd670b",
   "metadata": {},
   "outputs": [],
   "source": [
    "# -------------------------------------\n",
    "# LS fit\n",
    "# ------------------------------------\n",
    "\n",
    "import numpy as np\n",
    "class chi2_track_scattering:\n",
    "    def __init__(self, hits):\n",
    "        self.hits=hits\n",
    "        self.func_code = iminuit.util.make_func_code(['x0', 'z0', 't0', 'Ax', 'Az', 'At'])\n",
    "    def __call__(self, x0, z0, t0, Ax, Az, At):\n",
    "        chi2_distance = 0\n",
    "\n",
    "        cov_x, cov_z = self.get_cov(x0, z0, t0, Ax, Az, At)\n",
    "        residuals = []\n",
    "\n",
    "        for hit in self.hits:\n",
    "            dy = (hit.y - self.hits[1].y)\n",
    "            model_x = x0 + Ax*dy\n",
    "            model_z = z0 + Az*dy\n",
    "            model_t = t0 + At*dy\n",
    "            residuals.append([model_x-hit.x, model_z-hit.z, model_t-hit.t])\n",
    "        t_err = [hit.t_err for hit in hits]\n",
    "\n",
    "        residuals=np.array(residuals)\n",
    "\n",
    "        chi2_distance = residuals[:,0].T @ np.linalg.inv(cov_x) @residuals[:,0] +\\\n",
    "                        residuals[:,1].T @ np.linalg.inv(cov_z) @residuals[:,1] +\\\n",
    "                        np.sum([(residuals[:,2]/t_err)**2])\n",
    "        return chi2_distance        \n",
    "\n",
    "    def get_theta0(self, sin_theta, p=500):\n",
    "        L_Al =  0.4\n",
    "        L_Sc = 1.0 # [cm] Scintillator\n",
    "        L_r_Al = 24.0111/2.7; # [cm] Radiation length Aluminum/ density of Aluminum\n",
    "        L_r_Sc = 43; # [cm] Radiation length Scintillator (Saint-Gobain paper)\n",
    "\n",
    "        L_rad = L_Al / L_r_Al + L_Sc / L_r_Sc; # [rad lengths] orthogonal to Layer\n",
    "        L_rad /= sin_theta; # [rad lengths] in direction of track\n",
    "\n",
    "        sigma_ms = 13.6 * np.sqrt(L_rad) * (1 + 0.038 * np.log(L_rad)); #\n",
    "        sigma_ms /= p # [MeV] Divided by 1000 MeV\n",
    "\n",
    "        return sigma_ms\n",
    "\n",
    "    def get_cov(self, x0, z0, t0, Ax, Az, At):\n",
    "\n",
    "        sin_theta = np.power(Ax**2+Az**2+1, -1/2)\n",
    "        theta_0 = self.get_theta0(sin_theta)  \n",
    "        hits = self.hits\n",
    "\n",
    "        cov_xz = np.zeros((len(self.hits), len(self.hits)))\n",
    "        for i in range(1,len(self.hits)):\n",
    "            for j in range(1,len(self.hits)):\n",
    "                cov_xz[i,j] = np.sum([(hits[i].y-hits[k].y)*(hits[j].y-hits[k].y)*theta_0**2 for k in range(0, min(i,j))])   \n",
    "\n",
    "        cov_x = cov_xz* Ax**2\n",
    "        cov_z = cov_xz* Az**2\n",
    "\n",
    "        cov_x+=np.diag([hit.x_err**2 for hit in hits])\n",
    "        cov_z+=np.diag([hit.z_err**2 for hit in hits])\n",
    "\n",
    "        return np.array(cov_x), np.array(cov_z)\n",
    "\n",
    "\n",
    "def fit_track_scattering(hits, guess):\n",
    "    x0_init, z0_init,t0_init,Ax_init,Az_init,At_init = guess\n",
    "\n",
    "    m = iminuit.Minuit(chi2_track_scattering(hits),x0=x0_init, z0=z0_init, t0=t0_init, Ax=Ax_init,Az=Az_init, At=At_init)\n",
    "    m.limits[\"x0\"]=(-100000,100000)\n",
    "    m.limits[\"z0\"]=(-100000,100000)\n",
    "    m.limits[\"t0\"]=(-100,1e5)\n",
    "    m.limits[\"Ax\"]=(-10,10) # Other\n",
    "    m.limits[\"Az\"]=(-10,10)\n",
    "    m.limits[\"At\"]=(0.001,0.2) # Beam direction; From MKS unit to cm/ns = 1e2/1e9=1e-7\n",
    "    m.errors[\"x0\"]=0.1\n",
    "    m.errors[\"z0\"]=0.1\n",
    "    m.errors[\"t0\"]=0.1\n",
    "    m.errors[\"Ax\"] = 0.0001\n",
    "    m.errors[\"At\"] = 0.0001\n",
    "    m.errors[\"Az\"] = 0.0001\n",
    "\n",
    "    m.migrad()  # run optimiser\n",
    "    m.hesse()   # run covariance estimator\n",
    "    \n",
    "    return m          "
   ]
  },
  {
   "cell_type": "code",
   "execution_count": 4,
   "id": "68b00ad7",
   "metadata": {},
   "outputs": [],
   "source": [
    "x = [241.62934581783023, 259.25, 221.49664808213277, 227.75]\n",
    "y = [9894.0, 9975.599999999999, 10057.2, 10138.8]\n",
    "z = [12456.75, 12450.5, 12461.25, 12450.5]\n",
    "t = [40.91365706617539, 45.79668867914941, 48.189471653643565, 50.295569678622876]\n",
    "layers = [0,1,2,3,]\n",
    "\n",
    "hits = Util.hit.make_hits(x,y,z,t,layers)"
   ]
  },
  {
   "cell_type": "code",
   "execution_count": 5,
   "id": "354592ba",
   "metadata": {},
   "outputs": [],
   "source": [
    "# %timeit -n 1 fit_ls = fit_track_scattering(hits,guess)\n",
    "# %timeit -n 1 Util.track.run_kf(hits, multiple_scattering=True)"
   ]
  },
  {
   "cell_type": "code",
   "execution_count": 6,
   "id": "cf10c716",
   "metadata": {},
   "outputs": [
    {
     "data": {
      "text/plain": [
       "(<ValueView x0=258.6952428118093 z0=12458.904134374345 t0=44.76956160118144 Ax=-0.18931185202159817 Az=0.026115162650500068 At=0.037412180180083576>,\n",
       " <ErrorView x0=1.2879471417618333 z0=0.9144510763217113 t0=0.3873106855588446 Ax=0.011298168582045243 Az=0.011154872561253804 At=0.0038742625161521486>)"
      ]
     },
     "execution_count": 6,
     "metadata": {},
     "output_type": "execute_result"
    }
   ],
   "source": [
    "guess = Util.track.guess_track(hits)\n",
    "fit_ls = fit_track_scattering(hits,guess)\n",
    "fit_ls.values, fit_ls.errors"
   ]
  },
  {
   "cell_type": "code",
   "execution_count": 7,
   "id": "40e4dafa",
   "metadata": {},
   "outputs": [
    {
     "name": "stderr",
     "output_type": "stream",
     "text": [
      "c:\\Users\\Tom\\.conda\\envs\\CV\\lib\\site-packages\\ipykernel_launcher.py:2: RuntimeWarning: invalid value encountered in sqrt\n",
      "  \n"
     ]
    },
    {
     "data": {
      "text/plain": [
       "(array([ 2.58691818e+02,  1.24589018e+04,  4.47724563e+01, -1.88559159e-01,\n",
       "         2.61473539e-02,  3.74197355e-02]),\n",
       " array([1.28411733, 0.95389681, 0.38742155, 0.01341403, 0.01164934,\n",
       "        0.00387638]))"
      ]
     },
     "execution_count": 7,
     "metadata": {},
     "output_type": "execute_result"
    }
   ],
   "source": [
    "kf = Util.track.run_kf(hits, multiple_scattering=True)\n",
    "kf.Xsm[0], np.diag(np.sqrt(kf.Csm[0]))"
   ]
  },
  {
   "cell_type": "code",
   "execution_count": null,
   "id": "bb1b1597",
   "metadata": {},
   "outputs": [],
   "source": []
  }
 ],
 "metadata": {
  "kernelspec": {
   "display_name": "Python 3 (ipykernel)",
   "language": "python",
   "name": "python3"
  },
  "language_info": {
   "codemirror_mode": {
    "name": "ipython",
    "version": 3
   },
   "file_extension": ".py",
   "mimetype": "text/x-python",
   "name": "python",
   "nbconvert_exporter": "python",
   "pygments_lexer": "ipython3",
   "version": "3.7.9"
  }
 },
 "nbformat": 4,
 "nbformat_minor": 5
}
