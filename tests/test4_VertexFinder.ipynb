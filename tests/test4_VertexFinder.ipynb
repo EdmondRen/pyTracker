{
 "cells": [
  {
   "cell_type": "code",
   "execution_count": 1,
   "id": "04255863",
   "metadata": {},
   "outputs": [],
   "source": [
    "try:\n",
    "    from tqdm import tqdm\n",
    "except ImportError:\n",
    "    def tqdm(iterator, *args, **kwargs):\n",
    "        return iterator\n",
    "    \n",
    "import numpy as np\n",
    "import scipy as sp\n",
    "from scipy import constants\n",
    "from pylab import *\n",
    "import joblib\n",
    "\n",
    "\n",
    "import os,sys\n",
    "from importlib import reload\n",
    "import copy\n",
    "sys.path.append(\"../tracker\")"
   ]
  },
  {
   "cell_type": "code",
   "execution_count": 3,
   "id": "e99d309e",
   "metadata": {},
   "outputs": [
    {
     "data": {
      "text/plain": [
       "<module 'utilities' from '../tracker\\\\utilities.py'>"
      ]
     },
     "execution_count": 3,
     "metadata": {},
     "output_type": "execute_result"
    }
   ],
   "source": [
    "import kalmanfilter as KF\n",
    "import utilities as Util\n",
    "import trackfinder as TF\n",
    "import datatypes\n",
    "\n",
    "reload(TF)\n",
    "reload(Util)"
   ]
  },
  {
   "cell_type": "code",
   "execution_count": 4,
   "id": "67f50e67",
   "metadata": {},
   "outputs": [],
   "source": [
    "tracks=joblib.load(\"tracks_example.joblib\")\n",
    "# tracks"
   ]
  },
  {
   "cell_type": "code",
   "execution_count": null,
   "id": "eca4b5b3",
   "metadata": {},
   "outputs": [],
   "source": [
    "class chi2_vertex:\n",
    "    def __init__(self, tracks):\n",
    "        self.tracks=tracks\n",
    "        self.func_code = iminuit.util.make_func_code(['x0', 'y0', 'z0', 't0'])\n",
    "    def __call__(self, x0, y0, z0, t0):\n",
    "        error=0\n",
    "        point = [x0, y0, z0, t0]\n",
    "        for track in self.tracks:\n",
    "            error += Util.vertex.chi2_point_track(point, track)\n",
    "        return error        \n",
    "\n",
    "\n",
    "    \n",
    "def fit_vertex(tracks, guess):\n",
    "    x0_init, y0_init, z0_init,t0_init = guess\n",
    "\n",
    "    m = Minuit(chi2_vertex(tracks),x0=x0_init, y0=y0_init, z0=z0_init, t0=t0_init)\n",
    "    # m.fixed[\"y0\"]=True\n",
    "    m.limits[\"x0\"]=(-100000,100000)\n",
    "    m.limits[\"y0\"]=(-100000,100000)\n",
    "    m.limits[\"z0\"]=(-100000,100000)\n",
    "    m.limits[\"t0\"]=(-100,1e5)\n",
    "    m.errors[\"x0\"]=0.1\n",
    "    m.errors[\"y0\"]=0.1\n",
    "    m.errors[\"z0\"]=0.1\n",
    "    m.errors[\"t0\"]=0.1\n",
    "\n",
    "    m.migrad()  # run optimiser\n",
    "    m.hesse()   # run covariance estimator\n",
    "    return m\n",
    "\n",
    "class VertexFitter:\n",
    "    def init_state(self, track_pair):\n",
    "        return\n",
    "\n",
    "    def filter"
   ]
  }
 ],
 "metadata": {
  "kernelspec": {
   "display_name": "Python 3 (ipykernel)",
   "language": "python",
   "name": "python3"
  },
  "language_info": {
   "codemirror_mode": {
    "name": "ipython",
    "version": 3
   },
   "file_extension": ".py",
   "mimetype": "text/x-python",
   "name": "python",
   "nbconvert_exporter": "python",
   "pygments_lexer": "ipython3",
   "version": "3.7.9"
  }
 },
 "nbformat": 4,
 "nbformat_minor": 5
}
