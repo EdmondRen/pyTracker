{
 "cells": [
  {
   "cell_type": "code",
   "execution_count": 444,
   "id": "04255863",
   "metadata": {},
   "outputs": [],
   "source": [
    "try:\n",
    "    from tqdm import tqdm\n",
    "except ImportError:\n",
    "    def tqdm(iterator, *args, **kwargs):\n",
    "        return iterator\n",
    "    \n",
    "import numpy as np\n",
    "import scipy as sp\n",
    "from scipy import constants\n",
    "from pylab import *\n",
    "import joblib\n",
    "\n",
    "\n",
    "import os,sys\n",
    "from importlib import reload\n",
    "import copy\n",
    "from collections import namedtuple\n",
    "\n",
    "sys.path.append(\"../tracker\")"
   ]
  },
  {
   "cell_type": "code",
   "execution_count": 445,
   "id": "e99d309e",
   "metadata": {},
   "outputs": [
    {
     "data": {
      "text/plain": [
       "<module 'utilities' from '../tracker\\\\utilities.py'>"
      ]
     },
     "execution_count": 445,
     "metadata": {},
     "output_type": "execute_result"
    }
   ],
   "source": [
    "import kalmanfilter as KF\n",
    "import utilities as Util\n",
    "import datatypes\n",
    "import vertexfinder as VF\n",
    "\n",
    "reload(VF)\n",
    "reload(TF)\n",
    "reload(Util)"
   ]
  },
  {
   "cell_type": "code",
   "execution_count": 497,
   "id": "3c2adcdc",
   "metadata": {},
   "outputs": [],
   "source": [
    "tracks=joblib.load(\"tracks_example.joblib\")\n",
    "# tracks"
   ]
  },
  {
   "cell_type": "code",
   "execution_count": 498,
   "id": "e365373d",
   "metadata": {},
   "outputs": [
    {
     "name": "stdout",
     "output_type": "stream",
     "text": [
      "VertexSeed(x0=-254.3629291916415, y0=9137.003168896139, z0=13024.971865263946, t0=13.227374726695434, cov=0, chi2=17.81734158533356, dist=216.02999341565217, Ntracks=3, trackind1=0, trackind2=2)\n",
      "VertexSeed(x0=-351.4531698511656, y0=9357.807456194188, z0=13059.608654484686, t0=14.392923494031885, cov=0, chi2=12.583598314528553, dist=237.34679919726057, Ntracks=3, trackind1=2, trackind2=4)\n",
      "VertexSeed(x0=-257.29986992472266, y0=9356.669250960116, z0=13084.121651938869, t0=15.206390448987545, cov=0, chi2=9.427186073011585, dist=89.81524976894703, Ntracks=3, trackind1=1, trackind2=2)\n",
      "VertexSeed(x0=-451.4407245868403, y0=9480.181999224467, z0=13109.600118731594, t0=15.569468424528504, cov=0, chi2=3.8017866755224805, dist=71.33984011876291, Ntracks=3, trackind1=3, trackind2=4)\n",
      "--- New seed for vertex --- \n",
      "  Seed VertexSeed(x0=-451.4407245868403, y0=9480.181999224467, z0=13109.600118731594, t0=15.569468424528504, cov=0, chi2=3.8017866755224805, dist=71.33984011876291, Ntracks=3, trackind1=3, trackind2=4)\n",
      "  * Track [1] removed from vertex fit. Fit valid: True; vertex chi2_r 4.02; vertex chi2 increment 20.06\n",
      " -> Track [2] added to vertex. Vertex chi2_r 2.04; vertex chi2 increment 0.00. Track: (-165.60972399035657, 9894.0, 13099.18224374291, 28.91152951659794, 0.14622831751613335, 1, 0.07986969613985156, 0.024074517792219148)\n",
      "  * Track [0] removed from vertex fit. Fit valid: True; vertex chi2_r 22.11; vertex chi2 increment 166.67\n",
      "Vertex found! track indices: [4, 3, 2] \n",
      "\n"
     ]
    }
   ],
   "source": [
    "vf = VF.VertexFitter(debug=True)\n",
    "vertices = vf.run(tracks)\n",
    "# %timeit -n 2 vf.run(tracks)"
   ]
  },
  {
   "cell_type": "code",
   "execution_count": 496,
   "id": "8162b83b",
   "metadata": {},
   "outputs": [
    {
     "data": {
      "text/plain": [
       "(10.98991219115298, -2.3286372144236522, 7.270485559221852)"
      ]
     },
     "execution_count": 496,
     "metadata": {},
     "output_type": "execute_result"
    }
   ],
   "source": [
    "0.01*(13048.991219115298-7000-4950), 0.01*(-232.8637214423652), 0.01*(9274.048555922185-8547) "
   ]
  },
  {
   "cell_type": "code",
   "execution_count": 499,
   "id": "88457e13",
   "metadata": {},
   "outputs": [
    {
     "name": "stdout",
     "output_type": "stream",
     "text": [
      "1\n",
      "3\n",
      "Vertex(x0=-337.91196167006274, y0=8830.78767243668, z0=13065.563220776457, t0=-499.99998997435654, cov=array([[ 3.58389094e+03, -1.19147879e+03, -7.47309049e+02,\n",
      "        -3.37105249e-04],\n",
      "       [-1.19147879e+03,  1.02782078e+03,  5.97217552e+02,\n",
      "         2.89592212e-03],\n",
      "       [-7.47309049e+02,  5.97217552e+02,  4.21963715e+02,\n",
      "         1.31529056e-04],\n",
      "       [-3.37105249e-04,  2.89592212e-03,  1.31529056e-04,\n",
      "         5.91736319e-04]]), chi2=176.88818672334136, tracks=[Track(x0=-379.19783442375007, y0=9894.0, z0=13414.311791442962, t0=33.2565541322419, Ax=0.174833321035048, Ay=1, Az=0.7503867059983871, At=0.04617355224278653, cov=array([[ 2.07179674e+00, -3.30205612e-02,  4.96246842e-02,\n",
      "        -1.20511596e-01,  1.96994341e-02, -7.27034327e-06],\n",
      "       [-3.30205612e-02,  5.80862671e+00, -2.68555659e-01,\n",
      "         2.92922923e-03, -3.92885441e-02,  3.55725489e-03],\n",
      "       [ 4.96246842e-02, -2.68555659e-01,  1.43398990e+00,\n",
      "        -3.56848874e-05,  8.61175050e-02, -1.16593815e-01],\n",
      "       [-1.20511596e-01,  2.92922923e-03, -3.56848874e-05,\n",
      "         3.15657810e-02, -3.55805588e-03, -2.63657633e-03],\n",
      "       [ 1.96994341e-02, -3.92885441e-02,  8.61175050e-02,\n",
      "        -3.55805588e-03,  1.23183295e-02, -1.51598163e-02],\n",
      "       [-7.27034327e-06,  3.55725489e-03, -1.16593815e-01,\n",
      "        -2.63657633e-03, -1.51598163e-02,  2.08069180e-02]]), chi2=2.502530051294591, ind=3, hits=[47, 18, 15, 2], hits_filtered=[[-379.19783442375007, 9894.0, 13414.311791442962, 33.2565541322419], [-364.9314354272904, 9975.599999999999, 13475.54334665243, 37.02431599525322], [-350.33832746155525, 10057.2, 13536.776377922271, 40.76225834627268], [-328.8895016554997, 10138.8, 13597.257521651572, 43.210328522412105]]), Track(x0=-593.3372746917229, y0=9894.0, z0=13525.958237851159, t0=36.715232963935605, Ax=-0.30731233954861087, Ay=1, Az=0.9753695710713615, At=0.04756353149686153, cov=array([[ 2.29045856e+00,  3.36592227e-02, -1.66686523e-01,\n",
      "        -1.53219648e-01, -4.44194738e-02,  6.29191360e-06],\n",
      "       [ 3.36592227e-02,  6.13957931e+00, -2.10803875e-01,\n",
      "        -2.93223108e-03, -4.16163510e-02,  1.64329639e-03],\n",
      "       [-1.66686523e-01, -2.10803875e-01,  1.92608866e+00,\n",
      "         3.29454756e-05,  1.42266503e-01, -1.49252068e-01],\n",
      "       [-1.53219648e-01, -2.93223108e-03,  3.29454756e-05,\n",
      "         3.51249891e-02,  5.55947097e-03,  5.37349095e-03],\n",
      "       [-4.44194738e-02, -4.16163510e-02,  1.42266503e-01,\n",
      "         5.55947097e-03,  1.91842413e-02, -1.75503435e-02],\n",
      "       [ 6.29191360e-06,  1.64329639e-03, -1.49252068e-01,\n",
      "         5.37349095e-03, -1.75503435e-02,  1.97075968e-02]]), chi2=4.403548221424455, ind=4, hits=[63, 64, 65, 66], hits_filtered=[[-593.3372746917229, 9894.0, 13525.958237851159, 36.715232963935605], [-618.413961598889, 9975.599999999999, 13605.54839485058, 40.59641713407944], [-643.6434902926935, 10057.2, 13685.140896197587, 44.53452735474329], [-671.9306948162434, 10138.8, 13763.42790150751, 48.8596200503427]]), Track(x0=-165.60972399035657, y0=9894.0, z0=13099.18224374291, t0=28.91152951659794, Ax=0.14622831751613335, Ay=1, Az=0.07986969613985156, At=0.024074517792219148, cov=array([[ 1.87815667e+00, -7.39889749e-03,  2.22683478e-03,\n",
      "        -8.00867660e-02,  1.03024966e-02, -3.00697397e-07],\n",
      "       [-7.39889749e-03,  4.31622985e+00, -1.26968667e-01,\n",
      "         3.12026732e-04, -2.25139973e-02,  2.24743992e-03],\n",
      "       [ 2.22683478e-03, -1.26968667e-01,  1.03023923e+00,\n",
      "        -2.04132361e-06,  7.14627723e-03, -7.60190626e-02],\n",
      "       [-8.00867660e-02,  3.12026732e-04, -2.04132361e-06,\n",
      "         2.48743880e-02, -3.60324553e-03, -2.87056860e-04],\n",
      "       [ 1.03024966e-02, -2.25139973e-02,  7.14627723e-03,\n",
      "        -3.60324553e-03,  8.35918315e-04, -1.99375406e-03],\n",
      "       [-3.00697397e-07,  2.24743992e-03, -7.60190626e-02,\n",
      "        -2.87056860e-04, -1.99375406e-03,  2.51915378e-02]]), chi2=4.99296651423628, ind=2, hits=[21, 22, 23, 24], hits_filtered=[[-165.60972399035657, 9894.0, 13099.18224374291, 28.91152951659794], [-153.6774932810403, 9975.599999999999, 13105.69961094792, 30.87601016844299], [-141.81864335728423, 10057.2, 13112.218223312388, 32.95602089203343], [-131.9988748993376, 10138.8, 13117.767758212227, 37.767398430930434]])])\n"
     ]
    }
   ],
   "source": [
    "print(len(vertices))\n",
    "print(len(vertices[0].tracks))\n",
    "print(vertices[0])"
   ]
  },
  {
   "cell_type": "code",
   "execution_count": null,
   "id": "efaf1135",
   "metadata": {},
   "outputs": [],
   "source": [
    "def root_hits_extractor_tracks(Tree, entry):\n",
    "    Tree.GetEntry(entry)\n",
    "    c2list = lambda x: np.array([x.at(i) for i in range(x.size())])\n",
    "\n",
    "    Digi_layer = c2list(Tree.Digi_layer_id)\n",
    "    # Only select hits in tracking layer\n",
    "    mask = (Digi_layer>1) & (Digi_layer<=5) \n",
    "\n",
    "    Digi_x = c2list(Tree.Digi_x)[mask]\n",
    "    Digi_y = c2list(Tree.Digi_y)[mask]\n",
    "    Digi_z = c2list(Tree.Digi_z)[mask]\n",
    "    Digi_t = c2list(Tree.Digi_time)[mask]\n",
    "    Digi_track_id = c2list(Tree.Digi_track_id)[mask]\n",
    "    Digi_layer = Digi_layer[mask]\n",
    "    Hits = Util.hit.make_hits(Digi_x, Digi_y, Digi_z, Digi_t, Digi_layer)\n",
    "\n",
    "    track_ids = np.unique(Digi_track_id)\n",
    "    track_hits  = {}\n",
    "    for trackid in track_ids:\n",
    "        mask = Digi_track_id==trackid\n",
    "        hit_group = []\n",
    "        for i in np.flatnonzero(mask):\n",
    "            hit_group.append(Hits[i])\n",
    "        track_hits[int(trackid)] = hit_group\n",
    "\n",
    "    return track_hits"
   ]
  }
 ],
 "metadata": {
  "kernelspec": {
   "display_name": "Python 3 (ipykernel)",
   "language": "python",
   "name": "python3"
  },
  "language_info": {
   "codemirror_mode": {
    "name": "ipython",
    "version": 3
   },
   "file_extension": ".py",
   "mimetype": "text/x-python",
   "name": "python",
   "nbconvert_exporter": "python",
   "pygments_lexer": "ipython3",
   "version": "3.7.9"
  }
 },
 "nbformat": 4,
 "nbformat_minor": 5
}
