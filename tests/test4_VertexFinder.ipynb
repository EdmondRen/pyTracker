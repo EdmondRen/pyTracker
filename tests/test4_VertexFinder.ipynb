{
 "cells": [
  {
   "cell_type": "code",
   "execution_count": 350,
   "id": "04255863",
   "metadata": {},
   "outputs": [],
   "source": [
    "try:\n",
    "    from tqdm import tqdm\n",
    "except ImportError:\n",
    "    def tqdm(iterator, *args, **kwargs):\n",
    "        return iterator\n",
    "    \n",
    "import numpy as np\n",
    "import scipy as sp\n",
    "from scipy import constants\n",
    "from pylab import *\n",
    "import joblib\n",
    "\n",
    "\n",
    "import os,sys\n",
    "from importlib import reload\n",
    "import copy\n",
    "from collections import namedtuple\n",
    "\n",
    "sys.path.append(\"../tracker\")"
   ]
  },
  {
   "cell_type": "code",
   "execution_count": 539,
   "id": "e99d309e",
   "metadata": {},
   "outputs": [
    {
     "data": {
      "text/plain": [
       "<module 'utilities' from '../tracker\\\\utilities.py'>"
      ]
     },
     "execution_count": 539,
     "metadata": {},
     "output_type": "execute_result"
    }
   ],
   "source": [
    "import kalmanfilter as KF\n",
    "import utilities as Util\n",
    "import datatypes\n",
    "import vertexfinder as VF\n",
    "\n",
    "reload(VF)\n",
    "reload(Util)"
   ]
  },
  {
   "cell_type": "code",
   "execution_count": 540,
   "id": "3c2adcdc",
   "metadata": {},
   "outputs": [],
   "source": [
    "tracks=joblib.load(\"tracks_example.joblib\")\n",
    "# tracks"
   ]
  },
  {
   "cell_type": "code",
   "execution_count": 541,
   "id": "e365373d",
   "metadata": {},
   "outputs": [
    {
     "name": "stdout",
     "output_type": "stream",
     "text": [
      "VertexSeed(x0=1938.3960598398905, y0=9737.391326829067, z0=9473.245814560687, t0=31.435021915324477, cov=0, chi2=767.5219051045467, dist=126.96329602115777, Ntracks=0, trackind1=0, trackind2=1, score=2472.514336065329)\n",
      "--- New seed for vertex --- \n",
      "  Seed VertexSeed(x0=1938.3960598398905, y0=9737.391326829067, z0=9473.245814560687, t0=31.435021915324477, cov=0, chi2=767.5219051045467, dist=126.96329602115777, Ntracks=0, trackind1=0, trackind2=1, score=2472.514336065329)\n",
      " -> Track [3] added to vertex. Vertex chi2_r 1.98; vertex chi2 increment 9.76. Track: (1322.9312243791464, 9893.0, 10240.743959423311, 89.67492509000257, -0.953591017019463, 1, 1.084589776465581, 0.036783691065393684)\n",
      " -> Track [2] added to vertex. Vertex chi2_r 1.51; vertex chi2 increment 2.23. Track: (1238.3433915583182, 9893.0, 10006.519410496881, 59.2810215983687, -0.7367524891924243, 1, 1.170478487543455, 0.025723260543494206)\n",
      "Vertex found! track indices: [0, 1, 3, 2]\n",
      "  Tracks to vertex chi2: [0.25043280530758927, 0.19734132531503945, 6.782598720255577, 0.8704604817393131]\n",
      "  Vertex Chi2: 12.110248041352193; N tracks: 4; x0,y0,z0,t0: [2108.48376996 8754.84578209 8796.7471604   -27.53172977]; Uncertainty: [80.04740942 63.45330658 45.05435737 46.40185377]\n"
     ]
    }
   ],
   "source": [
    "vf = VF.VertexFitter(debug=True)\n",
    "vf.parameters[\"cut_vertex_SeedDist\"]=400\n",
    "vf.parameters[\"cut_vertex_SeedChi2\"]=40000\n",
    "vf.parameters[\"cut_vertex_TrackAddDist\"]=400\n",
    "vf.parameters[\"cut_vertex_TrackAddChi2\"]=30\n",
    "vf.parameters[\"cut_vertex_VertexChi2ReducedAdd\"]=10\n",
    "vf.parameters[\"cut_vertex_TrackDropChi2\"]=10\n",
    "vf.parameters[\"cut_vertex_VertexChi2Reduced\"]=5\n",
    "vertices = vf.run(tracks)\n",
    "# %timeit -n 2 vf.run(tracks)"
   ]
  },
  {
   "cell_type": "code",
   "execution_count": 502,
   "id": "8162b83b",
   "metadata": {},
   "outputs": [
    {
     "data": {
      "text/plain": [
       "(-10.14, -2.3286372144236522, 8.060485559221853)"
      ]
     },
     "execution_count": 502,
     "metadata": {},
     "output_type": "execute_result"
    }
   ],
   "source": [
    "0.01*(7936-7000-1950), 0.01*(-232.8637214423652), 0.01*(9353.048555922185-8547) "
   ]
  },
  {
   "cell_type": "code",
   "execution_count": 69,
   "id": "88457e13",
   "metadata": {},
   "outputs": [
    {
     "name": "stdout",
     "output_type": "stream",
     "text": [
      "0\n"
     ]
    },
    {
     "ename": "IndexError",
     "evalue": "list index out of range",
     "output_type": "error",
     "traceback": [
      "\u001b[1;31m---------------------------------------------------------------------------\u001b[0m",
      "\u001b[1;31mIndexError\u001b[0m                                Traceback (most recent call last)",
      "\u001b[1;32m~\\AppData\\Local\\Temp/ipykernel_37740/1727417991.py\u001b[0m in \u001b[0;36m<module>\u001b[1;34m\u001b[0m\n\u001b[0;32m      1\u001b[0m \u001b[0mprint\u001b[0m\u001b[1;33m(\u001b[0m\u001b[0mlen\u001b[0m\u001b[1;33m(\u001b[0m\u001b[0mvertices\u001b[0m\u001b[1;33m)\u001b[0m\u001b[1;33m)\u001b[0m\u001b[1;33m\u001b[0m\u001b[1;33m\u001b[0m\u001b[0m\n\u001b[1;32m----> 2\u001b[1;33m \u001b[0mprint\u001b[0m\u001b[1;33m(\u001b[0m\u001b[0mlen\u001b[0m\u001b[1;33m(\u001b[0m\u001b[0mvertices\u001b[0m\u001b[1;33m[\u001b[0m\u001b[1;36m0\u001b[0m\u001b[1;33m]\u001b[0m\u001b[1;33m.\u001b[0m\u001b[0mtracks\u001b[0m\u001b[1;33m)\u001b[0m\u001b[1;33m)\u001b[0m\u001b[1;33m\u001b[0m\u001b[1;33m\u001b[0m\u001b[0m\n\u001b[0m\u001b[0;32m      3\u001b[0m \u001b[0mprint\u001b[0m\u001b[1;33m(\u001b[0m\u001b[0mvertices\u001b[0m\u001b[1;33m[\u001b[0m\u001b[1;36m0\u001b[0m\u001b[1;33m]\u001b[0m\u001b[1;33m)\u001b[0m\u001b[1;33m\u001b[0m\u001b[1;33m\u001b[0m\u001b[0m\n",
      "\u001b[1;31mIndexError\u001b[0m: list index out of range"
     ]
    }
   ],
   "source": [
    "print(len(vertices))\n",
    "print(len(vertices[0].tracks))\n",
    "print(vertices[0])"
   ]
  },
  {
   "cell_type": "code",
   "execution_count": null,
   "id": "efaf1135",
   "metadata": {},
   "outputs": [],
   "source": [
    "def root_hits_extractor_tracks(Tree, entry):\n",
    "    Tree.GetEntry(entry)\n",
    "    c2list = lambda x: np.array([x.at(i) for i in range(x.size())])\n",
    "\n",
    "    Digi_layer = c2list(Tree.Digi_layer_id)\n",
    "    # Only select hits in tracking layer\n",
    "    mask = (Digi_layer>1) & (Digi_layer<=5) \n",
    "\n",
    "    Digi_x = c2list(Tree.Digi_x)[mask]\n",
    "    Digi_y = c2list(Tree.Digi_y)[mask]\n",
    "    Digi_z = c2list(Tree.Digi_z)[mask]\n",
    "    Digi_t = c2list(Tree.Digi_time)[mask]\n",
    "    Digi_track_id = c2list(Tree.Digi_track_id)[mask]\n",
    "    Digi_layer = Digi_layer[mask]\n",
    "    Hits = Util.hit.make_hits(Digi_x, Digi_y, Digi_z, Digi_t, Digi_layer)\n",
    "\n",
    "    track_ids = np.unique(Digi_track_id)\n",
    "    track_hits  = {}\n",
    "    for trackid in track_ids:\n",
    "        mask = Digi_track_id==trackid\n",
    "        hit_group = []\n",
    "        for i in np.flatnonzero(mask):\n",
    "            hit_group.append(Hits[i])\n",
    "        track_hits[int(trackid)] = hit_group\n",
    "\n",
    "    return track_hits"
   ]
  }
 ],
 "metadata": {
  "kernelspec": {
   "display_name": "Python 3 (ipykernel)",
   "language": "python",
   "name": "python3"
  },
  "language_info": {
   "codemirror_mode": {
    "name": "ipython",
    "version": 3
   },
   "file_extension": ".py",
   "mimetype": "text/x-python",
   "name": "python",
   "nbconvert_exporter": "python",
   "pygments_lexer": "ipython3",
   "version": "3.7.9"
  }
 },
 "nbformat": 4,
 "nbformat_minor": 5
}
