{
 "cells": [
  {
   "cell_type": "code",
   "execution_count": 444,
   "id": "04255863",
   "metadata": {},
   "outputs": [],
   "source": [
    "try:\n",
    "    from tqdm import tqdm\n",
    "except ImportError:\n",
    "    def tqdm(iterator, *args, **kwargs):\n",
    "        return iterator\n",
    "    \n",
    "import numpy as np\n",
    "import scipy as sp\n",
    "from scipy import constants\n",
    "from pylab import *\n",
    "import joblib\n",
    "\n",
    "\n",
    "import os,sys\n",
    "from importlib import reload\n",
    "import copy\n",
    "from collections import namedtuple\n",
    "\n",
    "sys.path.append(\"../tracker\")"
   ]
  },
  {
   "cell_type": "code",
   "execution_count": 445,
   "id": "e99d309e",
   "metadata": {},
   "outputs": [
    {
     "data": {
      "text/plain": [
       "<module 'utilities' from '../tracker\\\\utilities.py'>"
      ]
     },
     "execution_count": 445,
     "metadata": {},
     "output_type": "execute_result"
    }
   ],
   "source": [
    "import kalmanfilter as KF\n",
    "import utilities as Util\n",
    "import datatypes\n",
    "import vertexfinder as VF\n",
    "\n",
    "reload(VF)\n",
    "reload(TF)\n",
    "reload(Util)"
   ]
  },
  {
   "cell_type": "code",
   "execution_count": 474,
   "id": "3c2adcdc",
   "metadata": {},
   "outputs": [],
   "source": [
    "tracks=joblib.load(\"tracks_example.joblib\")\n",
    "# tracks"
   ]
  },
  {
   "cell_type": "code",
   "execution_count": 475,
   "id": "e365373d",
   "metadata": {},
   "outputs": [
    {
     "name": "stdout",
     "output_type": "stream",
     "text": [
      "VertexSeed(x0=-429.1761485809954, y0=11458.743993315009, z0=13175.858970818914, t0=70.86179389996407, cov=0, chi2=15.058267568254465, dist=226.27688130352624, Ntracks=0, trackind1=0, trackind2=3)\n",
      "VertexSeed(x0=-916.6426779019071, y0=9298.170775219201, z0=11843.262543428742, t0=2.817481274571789, cov=0, chi2=0.8449106967371279, dist=16.868818487332014, Ntracks=3, trackind1=1, trackind2=6)\n",
      "--- New seed for vertex --- \n",
      "  Seed VertexSeed(x0=-916.6426779019071, y0=9298.170775219201, z0=11843.262543428742, t0=2.817481274571789, cov=0, chi2=0.8449106967371279, dist=16.868818487332014, Ntracks=3, trackind1=1, trackind2=6)\n",
      "  * Track [5] removed from vertex fit. Fit valid: True; vertex chi2_r 31.79; vertex chi2 increment 158.31\n",
      "  * Track [3] removed from vertex fit. Fit valid: True; vertex chi2_r 23.96; vertex chi2 increment 119.15\n",
      " -> Track [4] added to vertex. Vertex chi2_r 3.77; vertex chi2 increment 0.00. Track: (-949.4511922438071, 9894.0, 13096.803856255683, 45.628423533705366, 0.0707919368044824, 1, 2.497340035649223, 0.08931203216080512)\n",
      "  * Track [0] too far from vertex. Track dist to vertex: 141.37, track chi2 to vertex: 701.69\n",
      "  * Track [2] too far from vertex. Track dist to vertex: 57.50, track chi2 to vertex: 650.37\n",
      "Vertex found! track indices: [6, 4, 1] \n",
      "\n",
      "--- New seed for vertex --- \n",
      "  Seed VertexSeed(x0=-429.1761485809954, y0=11458.743993315009, z0=13175.858970818914, t0=70.86179389996407, cov=0, chi2=15.058267568254465, dist=226.27688130352624, Ntracks=0, trackind1=0, trackind2=3)\n",
      "  * Track [2] too far from vertex. Track dist to vertex: 580.75, track chi2 to vertex: 1741.17\n",
      "  * Track [5] too far from vertex. Track dist to vertex: 10834.72, track chi2 to vertex: 2964.25\n",
      "Vertex found! track indices: [3, 0] \n",
      "\n"
     ]
    }
   ],
   "source": [
    "vf = VF.VertexFitter(debug=True)\n",
    "vertices = vf.run(tracks)\n",
    "# %timeit -n 2 vf.run(tracks)"
   ]
  },
  {
   "cell_type": "code",
   "execution_count": 473,
   "id": "8162b83b",
   "metadata": {},
   "outputs": [
    {
     "data": {
      "text/plain": [
       "(-0.2685468355979538, -9.988637214423653, 8.720485559221853)"
      ]
     },
     "execution_count": 473,
     "metadata": {},
     "output_type": "execute_result"
    }
   ],
   "source": [
    "0.01*(11923.145316440205-7000-4950), 0.01*(-998.8637214423652), 0.01*(9419.048555922185-8547) "
   ]
  },
  {
   "cell_type": "code",
   "execution_count": 476,
   "id": "88457e13",
   "metadata": {},
   "outputs": [
    {
     "name": "stdout",
     "output_type": "stream",
     "text": [
      "2\n",
      "3\n",
      "Vertex(x0=-998.7019943955092, y0=9419.927995448612, z0=11923.441858283331, t0=6.473822458657651, cov=array([[ 19.54017141,  -9.16181912, -13.54570357,  -0.60782223],\n",
      "       [ -9.16181912,  21.47617524,  31.75241728,   1.4247931 ],\n",
      "       [-13.54570357,  31.75241728,  69.15967667,   2.10654944],\n",
      "       [ -0.60782223,   1.4247931 ,   2.10654944,   4.73892007]]), chi2=18.850297384053682, tracks=[Track(x0=-1365.0108087953533, y0=9894.0, z0=12258.551342056233, t0=28.89149054310636, Ax=-0.7441830132248165, Ay=1, Az=0.691579950037166, At=0.0439238249877844, cov=array([[ 4.12807664e+00,  0.00000000e+00,  0.00000000e+00,\n",
      "        -2.02527097e-02,  0.00000000e+00,  0.00000000e+00],\n",
      "       [ 0.00000000e+00,  1.68043024e+00,  0.00000000e+00,\n",
      "         0.00000000e+00, -1.02541541e-02,  0.00000000e+00],\n",
      "       [ 0.00000000e+00,  0.00000000e+00,  7.00000000e-01,\n",
      "         0.00000000e+00,  0.00000000e+00, -3.67647059e-03],\n",
      "       [-2.02527097e-02,  0.00000000e+00,  0.00000000e+00,\n",
      "         1.24619542e-04,  0.00000000e+00,  0.00000000e+00],\n",
      "       [ 0.00000000e+00, -1.02541541e-02,  0.00000000e+00,\n",
      "         0.00000000e+00,  1.24619542e-04,  0.00000000e+00],\n",
      "       [ 0.00000000e+00,  0.00000000e+00, -3.67647059e-03,\n",
      "         0.00000000e+00,  0.00000000e+00,  3.00365244e-05]]), chi2=6.552382060761307, ind=1, hits=[0, 1, 2, 3], hits_filtered=[[-1365.0108087953533, 9894.0, 12258.551342056233, 28.89149054310636], [-1425.7361426744974, 9975.599999999999, 12314.984265979265, 32.475674662109505], [-1486.461476553644, 10057.2, 12371.417189902295, 36.05985878111281], [-1547.1868104327875, 10138.8, 12427.850113825323, 39.64404290011595]]), Track(x0=-1434.7573619368793, y0=9975.599999999999, z0=13017.904558235743, t0=47.41994236549783, Ax=-0.7720588235294087, Ay=1, Az=1.7353254443360913, At=0.06562663404891649, cov=array([[ 1.68395049e+00,  0.00000000e+00,  0.00000000e+00,\n",
      "        -1.03400735e-02,  0.00000000e+00,  0.00000000e+00],\n",
      "       [ 0.00000000e+00,  1.01521144e+02,  0.00000000e+00,\n",
      "         0.00000000e+00, -1.22379518e+00,  0.00000000e+00],\n",
      "       [ 0.00000000e+00,  0.00000000e+00,  8.33333333e-01,\n",
      "         0.00000000e+00,  0.00000000e+00, -6.12745098e-03],\n",
      "       [-1.03400735e-02,  0.00000000e+00,  0.00000000e+00,\n",
      "         1.26716587e-04,  0.00000000e+00,  0.00000000e+00],\n",
      "       [ 0.00000000e+00, -1.22379518e+00,  0.00000000e+00,\n",
      "         0.00000000e+00,  1.49974899e-02,  0.00000000e+00],\n",
      "       [ 0.00000000e+00,  0.00000000e+00, -6.12745098e-03,\n",
      "         0.00000000e+00,  0.00000000e+00,  7.50913110e-05]]), chi2=2.140718530737759, ind=6, hits=[5, 6, 7], hits_filtered=[[-1434.7573619368793, 9975.599999999999, 13017.904558235743, 47.41994236549783], [-1497.7573619368807, 10057.2, 13159.507114493572, 52.77507570388956], [-1560.7573619368793, 10138.8, 13301.109670751393, 58.13020904228105]]), Track(x0=-949.4511922438071, y0=9894.0, z0=13096.803856255683, t0=45.628423533705366, Ax=0.0707919368044824, Ay=1, Az=2.497340035649223, At=0.08931203216080512, cov=array([[ 1.68043024e+00,  0.00000000e+00,  0.00000000e+00,\n",
      "        -1.02541541e-02,  0.00000000e+00,  0.00000000e+00],\n",
      "       [ 0.00000000e+00,  4.12807664e+00,  0.00000000e+00,\n",
      "         0.00000000e+00, -2.02527097e-02,  0.00000000e+00],\n",
      "       [ 0.00000000e+00,  0.00000000e+00,  7.00000000e-01,\n",
      "         0.00000000e+00,  0.00000000e+00, -3.67647059e-03],\n",
      "       [-1.02541541e-02,  0.00000000e+00,  0.00000000e+00,\n",
      "         1.24619542e-04,  0.00000000e+00,  0.00000000e+00],\n",
      "       [ 0.00000000e+00, -2.02527097e-02,  0.00000000e+00,\n",
      "         0.00000000e+00,  1.24619542e-04,  0.00000000e+00],\n",
      "       [ 0.00000000e+00,  0.00000000e+00, -3.67647059e-03,\n",
      "         0.00000000e+00,  0.00000000e+00,  3.00365244e-05]]), chi2=3.4857548563086787, ind=4, hits=[13, 14, 15, 16], hits_filtered=[[-949.4511922438071, 9894.0, 13096.803856255683, 45.628423533705366], [-943.6745702005614, 9975.599999999999, 13300.586803164657, 52.91628535802693], [-937.8979481573155, 10057.2, 13504.369750073638, 60.20414718234883], [-932.1213261140698, 10138.8, 13708.15269698261, 67.4920090066704]])])\n"
     ]
    }
   ],
   "source": [
    "print(len(vertices))\n",
    "print(len(vertices[0].tracks))\n",
    "print(vertices[0])"
   ]
  },
  {
   "cell_type": "code",
   "execution_count": null,
   "id": "efaf1135",
   "metadata": {},
   "outputs": [],
   "source": [
    "def root_hits_extractor_tracks(Tree, entry):\n",
    "    Tree.GetEntry(entry)\n",
    "    c2list = lambda x: np.array([x.at(i) for i in range(x.size())])\n",
    "\n",
    "    Digi_layer = c2list(Tree.Digi_layer_id)\n",
    "    # Only select hits in tracking layer\n",
    "    mask = (Digi_layer>1) & (Digi_layer<=5) \n",
    "\n",
    "    Digi_x = c2list(Tree.Digi_x)[mask]\n",
    "    Digi_y = c2list(Tree.Digi_y)[mask]\n",
    "    Digi_z = c2list(Tree.Digi_z)[mask]\n",
    "    Digi_t = c2list(Tree.Digi_time)[mask]\n",
    "    Digi_track_id = c2list(Tree.Digi_track_id)[mask]\n",
    "    Digi_layer = Digi_layer[mask]\n",
    "    Hits = Util.hit.make_hits(Digi_x, Digi_y, Digi_z, Digi_t, Digi_layer)\n",
    "\n",
    "    track_ids = np.unique(Digi_track_id)\n",
    "    track_hits  = {}\n",
    "    for trackid in track_ids:\n",
    "        mask = Digi_track_id==trackid\n",
    "        hit_group = []\n",
    "        for i in np.flatnonzero(mask):\n",
    "            hit_group.append(Hits[i])\n",
    "        track_hits[int(trackid)] = hit_group\n",
    "\n",
    "    return track_hits"
   ]
  }
 ],
 "metadata": {
  "kernelspec": {
   "display_name": "Python 3 (ipykernel)",
   "language": "python",
   "name": "python3"
  },
  "language_info": {
   "codemirror_mode": {
    "name": "ipython",
    "version": 3
   },
   "file_extension": ".py",
   "mimetype": "text/x-python",
   "name": "python",
   "nbconvert_exporter": "python",
   "pygments_lexer": "ipython3",
   "version": "3.7.9"
  }
 },
 "nbformat": 4,
 "nbformat_minor": 5
}
