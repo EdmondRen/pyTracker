{
 "cells": [
  {
   "cell_type": "code",
   "execution_count": 350,
   "id": "04255863",
   "metadata": {},
   "outputs": [],
   "source": [
    "try:\n",
    "    from tqdm import tqdm\n",
    "except ImportError:\n",
    "    def tqdm(iterator, *args, **kwargs):\n",
    "        return iterator\n",
    "    \n",
    "import numpy as np\n",
    "import scipy as sp\n",
    "from scipy import constants\n",
    "from pylab import *\n",
    "import joblib\n",
    "\n",
    "\n",
    "import os,sys\n",
    "from importlib import reload\n",
    "import copy\n",
    "from collections import namedtuple\n",
    "\n",
    "sys.path.append(\"../tracker\")"
   ]
  },
  {
   "cell_type": "code",
   "execution_count": 652,
   "id": "e99d309e",
   "metadata": {},
   "outputs": [
    {
     "data": {
      "text/plain": [
       "<module 'utilities' from '../tracker\\\\utilities.py'>"
      ]
     },
     "execution_count": 652,
     "metadata": {},
     "output_type": "execute_result"
    }
   ],
   "source": [
    "import kalmanfilter as KF\n",
    "import utilities as Util\n",
    "import datatypes\n",
    "import vertexfinder as VF\n",
    "\n",
    "reload(VF)\n",
    "reload(Util)"
   ]
  },
  {
   "cell_type": "code",
   "execution_count": 669,
   "id": "3c2adcdc",
   "metadata": {},
   "outputs": [],
   "source": [
    "tracks=joblib.load(\"tracks_example.joblib\")\n",
    "# tracks"
   ]
  },
  {
   "cell_type": "code",
   "execution_count": 670,
   "id": "e365373d",
   "metadata": {},
   "outputs": [
    {
     "name": "stdout",
     "output_type": "stream",
     "text": [
      "VertexSeed(x0=-1106.5532543159936, y0=11054.370803211583, z0=11176.015250002245, t0=93.86717277412757, cov=0, chi2=34.98009593903949, dist=157.57919771525292, Ntracks=0, trackind1=3, trackind2=4, score=285.29499943241694)\n",
      "VertexSeed(x0=-596.0680834646483, y0=9263.816294860088, z0=9534.233908020473, t0=3.6992074602902942, cov=0, chi2=53.93372539700782, dist=95.46148017011834, Ntracks=3, trackind1=0, trackind2=3, score=273.14334141489894)\n",
      "VertexSeed(x0=-576.9881372065313, y0=9203.264903561545, z0=9524.403774411892, t0=3.7617555159275167, cov=0, chi2=14.553864130241033, dist=120.32915465954346, Ntracks=3, trackind1=0, trackind2=2, score=177.07828859976445)\n",
      "VertexSeed(x0=-643.8794524098098, y0=9341.337525329669, z0=9581.651106260228, t0=9.131301385118334, cov=0, chi2=12.897350622626853, dist=118.74247070153892, Ntracks=3, trackind1=2, trackind2=3, score=172.01697016682098)\n",
      "VertexSeed(x0=-554.4386702444704, y0=8837.814739209272, z0=9394.91110928894, t0=-9.384173962089944, cov=0, chi2=1.0567649359980162, dist=78.07801134865505, Ntracks=3, trackind1=2, trackind2=4, score=100.8902213217353)\n",
      "VertexSeed(x0=-543.3155550320145, y0=8847.726991023774, z0=9390.57749520068, t0=-11.508542781808567, cov=0, chi2=0.5079734194296681, dist=50.04032008729712, Ntracks=3, trackind1=0, trackind2=4, score=71.07067426564892)\n",
      "\n",
      "--- New seed for vertex --- \n",
      "  Seed VertexSeed(x0=-543.3155550320145, y0=8847.726991023774, z0=9390.57749520068, t0=-11.508542781808567, cov=0, chi2=0.5079734194296681, dist=50.04032008729712, Ntracks=3, trackind1=0, trackind2=4, score=71.07067426564892)\n",
      " -> Track [2] added to vertex. Vertex chi2_r 0.21; vertex chi2 increment 0.87. Track: (-702.613758992699, 9893.0, 9762.791634721707, 31.556121125265587, -0.13772329761831695, 1, 0.3581136452796049, 0.037641073614678854)\n",
      "  * Track [3] removed from vertex fit. Fit valid: True; vertex chi2_r 8.36; vertex chi2 increment 65.87\n",
      "  * Track [1] removed from vertex fit. Fit valid: True; vertex chi2_r 38.16; vertex chi2 increment 304.24\n",
      "Vertex found! track indices: [0, 4, 2]\n",
      "  Tracks to vertex chi2: [0.30442964244592435, 0.014731162832909568, 0.4353158827777198]\n",
      "  Vertex Chi2: 1.0257372745307456; N tracks: 3; x0,y0,z0,t0: [-547.18273508 8828.42366924 9383.49936593  -11.02030853]; Uncertainty: [11.0849592  44.27647951 21.72296415  3.25190007]\n"
     ]
    }
   ],
   "source": [
    "vf = VF.VertexFitter(debug=True)\n",
    "vf.parameters[\"cut_vertex_SeedDist\"]=400\n",
    "vf.parameters[\"cut_vertex_SeedChi2\"]=70\n",
    "vf.parameters[\"cut_vertex_TrackAddDist\"]=400\n",
    "vf.parameters[\"cut_vertex_TrackAddChi2\"]=30\n",
    "vf.parameters[\"cut_vertex_VertexChi2ReducedAdd\"]=10\n",
    "vf.parameters[\"cut_vertex_TrackDropChi2\"]=10\n",
    "vf.parameters[\"cut_vertex_VertexChi2Reduced\"]=7\n",
    "vertices = vf.run(tracks)\n",
    "# %timeit -n 2 vf.run(tracks)"
   ]
  },
  {
   "cell_type": "code",
   "execution_count": 639,
   "id": "8162b83b",
   "metadata": {},
   "outputs": [
    {
     "data": {
      "text/plain": [
       "(-10.14, -2.3286372144236522, 8.060485559221853)"
      ]
     },
     "execution_count": 639,
     "metadata": {},
     "output_type": "execute_result"
    }
   ],
   "source": [
    "0.01*(7936-7000-1950), 0.01*(-232.8637214423652), 0.01*(9353.048555922185-8547) "
   ]
  },
  {
   "cell_type": "code",
   "execution_count": 629,
   "id": "88457e13",
   "metadata": {},
   "outputs": [
    {
     "name": "stdout",
     "output_type": "stream",
     "text": [
      "1\n",
      "2\n",
      "Vertex(x0=-657.7075023604848, y0=10062.494867602756, z0=8187.4553206153505, t0=32.721370966609356, cov=array([[  32.64936124, -118.89876231,  -90.59024278,   -5.08272906],\n",
      "       [-118.89876231,  493.43364401,  374.5415494 ,   18.99748252],\n",
      "       [ -90.59024278,  374.5415494 ,  287.60401936,   16.18801243],\n",
      "       [  -5.08272906,   18.99748252,   16.18801243,    2.16747067]]), chi2=9.37129630384259, tracks=[Track(x0=-662.7926518817069, y0=9893.0, z0=8060.368664513141, t0=25.911857342515734, Ax=0.03921219023048336, Ay=1, Az=0.765467089652093, At=0.04138437340874109, cov=array([[ 2.84702861e+01,  7.05292087e-03, -5.57574791e-04,\n",
      "        -3.27962737e-01, -1.20524871e-04, -3.16656569e-04],\n",
      "       [ 7.05292087e-03,  1.00781481e+00,  5.95107019e-03,\n",
      "        -9.28888286e-05, -7.86937433e-03, -2.78892338e-03],\n",
      "       [-5.57574791e-04,  5.95107019e-03,  2.07704458e-01,\n",
      "         6.89918086e-06, -2.99106762e-04, -1.19143169e-03],\n",
      "       [-3.27962737e-01, -9.28888286e-05,  6.89918086e-06,\n",
      "         4.08769528e-03,  4.72196471e-06,  9.23359213e-06],\n",
      "       [-1.20524871e-04, -7.86937433e-03, -2.99106762e-04,\n",
      "         4.72196471e-06,  2.72942744e-04,  1.38070119e-04],\n",
      "       [-3.16656569e-04, -2.78892338e-03, -1.19143169e-03,\n",
      "         9.23359213e-06,  1.38070119e-04,  1.00734398e-04]]), chi2=12.789693351317192, ind=2, hits=[26, 27, 28, 44], hits_filtered=[[-662.7926518817069, 9893.0, 8060.368664513141, 25.911857342515734], [-659.6753713121741, 9974.2, 8122.286008074982, 29.56132678476838], [-655.493451782777, 10055.400000000001, 8184.658884057765, 32.88972508431178], [-651.3004866014945, 10136.599999999999, 8247.824016815977, 36.19222309482766]]), Track(x0=-610.24562173726, y0=9893.0, z0=8056.191691661267, t0=24.614162441613185, Ax=-0.28995198069948425, Ay=1, Az=0.7519956162364687, At=0.05062494486645509, cov=array([[ 5.20779093e+00, -4.90159762e-02,  7.68244041e-03,\n",
      "        -3.48400647e-02,  7.25132688e-04,  2.18081112e-03],\n",
      "       [-4.90159762e-02,  1.03416687e+00,  5.36245967e-03,\n",
      "         6.42524416e-04, -8.74053118e-03, -2.81521315e-03],\n",
      "       [ 7.68244041e-03,  5.36245967e-03,  2.09114040e-01,\n",
      "        -9.61684407e-05, -3.49790736e-04, -1.24585301e-03],\n",
      "       [-3.48400647e-02,  6.42524416e-04, -9.61684407e-05,\n",
      "         4.06299942e-04, -2.84892889e-05, -6.04399029e-05],\n",
      "       [ 7.25132688e-04, -8.74053118e-03, -3.49790736e-04,\n",
      "        -2.84892889e-05,  3.18677632e-04,  1.43428384e-04],\n",
      "       [ 2.18081112e-03, -2.81521315e-03, -1.24585301e-03,\n",
      "        -6.04399029e-05,  1.43428384e-04,  1.17872009e-04]]), chi2=15.345834560983155, ind=3, hits=[42, 43, 30, 29], hits_filtered=[[-610.24562173726, 9893.0, 8056.191691661267, 24.614162441613185], [-633.267719352604, 9974.2, 8117.209368878798, 28.84031989950952], [-657.6140912918123, 10055.400000000001, 8178.149535964338, 32.955822933477805], [-682.030377305717, 10136.599999999999, 8239.22067612407, 36.94510132938102]])])\n"
     ]
    }
   ],
   "source": [
    "print(len(vertices))\n",
    "print(len(vertices[0].tracks))\n",
    "print(vertices[0])"
   ]
  }
 ],
 "metadata": {
  "kernelspec": {
   "display_name": "Python 3 (ipykernel)",
   "language": "python",
   "name": "python3"
  },
  "language_info": {
   "codemirror_mode": {
    "name": "ipython",
    "version": 3
   },
   "file_extension": ".py",
   "mimetype": "text/x-python",
   "name": "python",
   "nbconvert_exporter": "python",
   "pygments_lexer": "ipython3",
   "version": "3.7.9"
  }
 },
 "nbformat": 4,
 "nbformat_minor": 5
}
