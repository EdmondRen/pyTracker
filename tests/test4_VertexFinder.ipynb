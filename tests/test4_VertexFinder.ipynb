{
 "cells": [
  {
   "cell_type": "code",
   "execution_count": 1,
   "id": "04255863",
   "metadata": {},
   "outputs": [],
   "source": [
    "try:\n",
    "    from tqdm import tqdm\n",
    "except ImportError:\n",
    "    def tqdm(iterator, *args, **kwargs):\n",
    "        return iterator\n",
    "    \n",
    "import numpy as np\n",
    "import scipy as sp\n",
    "from scipy import constants\n",
    "from pylab import *\n",
    "import joblib\n",
    "\n",
    "\n",
    "import os,sys\n",
    "from importlib import reload\n",
    "import copy\n",
    "from collections import namedtuple\n",
    "\n",
    "sys.path.append(\"../tracker\")"
   ]
  },
  {
   "cell_type": "code",
   "execution_count": 109,
   "id": "e99d309e",
   "metadata": {},
   "outputs": [
    {
     "data": {
      "text/plain": [
       "<module 'utilities' from '../tracker\\\\utilities.py'>"
      ]
     },
     "execution_count": 109,
     "metadata": {},
     "output_type": "execute_result"
    }
   ],
   "source": [
    "import kalmanfilter as KF\n",
    "import utilities as Util\n",
    "import datatypes\n",
    "import vertexfinder as VF\n",
    "\n",
    "reload(VF)\n",
    "reload(Util)"
   ]
  },
  {
   "cell_type": "code",
   "execution_count": 110,
   "id": "3c2adcdc",
   "metadata": {},
   "outputs": [],
   "source": [
    "tracks=joblib.load(\"tracks_example.joblib\")\n",
    "# tracks"
   ]
  },
  {
   "cell_type": "code",
   "execution_count": 111,
   "id": "e365373d",
   "metadata": {},
   "outputs": [
    {
     "name": "stdout",
     "output_type": "stream",
     "text": [
      "VertexSeed(x0=135.14453597458458, y0=9657.452401315408, z0=8795.288278460723, t0=2.354855499088188, cov=0, chi2=31.54249090912529, dist=96.6931207389477, Ntracks=1, trackind1=0, trackind2=1, score=1146.9983605414752)\n",
      "--- New seed for vertex --- \n",
      "  Seed VertexSeed(x0=135.14453597458458, y0=9657.452401315408, z0=8795.288278460723, t0=2.354855499088188, cov=0, chi2=31.54249090912529, dist=96.6931207389477, Ntracks=1, trackind1=0, trackind2=1, score=1146.9983605414752)\n",
      " -> Track [2] added to vertex. Vertex chi2_r 0.42; vertex chi2 increment 2.11. Track: (564.7233936034289, 9893.0, 9638.60280683061, 37.166398369151636, 1.1135459601242568, 1, 2.5422267815307698, 0.09727597639302503)\n",
      "  * Track [3] too far from vertex. Track dist to vertex: 424.04, track chi2 to vertex: 1269.38\n",
      "Vertex found! track indices: [0, 1, 2] \n",
      " Chi2: 2.1201143608073845; <ValueView x0=172.99302995257312 y0=9540.854244346832 z0=8785.854206965276 t0=-19.452734477525723>\n"
     ]
    }
   ],
   "source": [
    "vf = VF.VertexFitter(debug=True)\n",
    "vf.parameters[\"cut_vertex_SeedDist\"]=300\n",
    "vf.parameters[\"cut_vertex_SeedChi2\"]=50\n",
    "vf.parameters[\"cut_vertex_TrackAddDist\"]=300\n",
    "vf.parameters[\"cut_vertex_TrackAddChi2\"]=20\n",
    "vf.parameters[\"cut_vertex_VertexChi2Reduced\"]=5\n",
    "vertices = vf.run(tracks)\n",
    "# %timeit -n 2 vf.run(tracks)"
   ]
  },
  {
   "cell_type": "code",
   "execution_count": 112,
   "id": "8162b83b",
   "metadata": {},
   "outputs": [
    {
     "data": {
      "text/plain": [
       "(-1.6500000000000001, -2.3286372144236522, 13.090485559221852)"
      ]
     },
     "execution_count": 112,
     "metadata": {},
     "output_type": "execute_result"
    }
   ],
   "source": [
    "0.01*(8785-7000-1950), 0.01*(-232.8637214423652), 0.01*(9856.048555922185-8547) "
   ]
  },
  {
   "cell_type": "code",
   "execution_count": 69,
   "id": "88457e13",
   "metadata": {},
   "outputs": [
    {
     "name": "stdout",
     "output_type": "stream",
     "text": [
      "0\n"
     ]
    },
    {
     "ename": "IndexError",
     "evalue": "list index out of range",
     "output_type": "error",
     "traceback": [
      "\u001b[1;31m---------------------------------------------------------------------------\u001b[0m",
      "\u001b[1;31mIndexError\u001b[0m                                Traceback (most recent call last)",
      "\u001b[1;32m~\\AppData\\Local\\Temp/ipykernel_37740/1727417991.py\u001b[0m in \u001b[0;36m<module>\u001b[1;34m\u001b[0m\n\u001b[0;32m      1\u001b[0m \u001b[0mprint\u001b[0m\u001b[1;33m(\u001b[0m\u001b[0mlen\u001b[0m\u001b[1;33m(\u001b[0m\u001b[0mvertices\u001b[0m\u001b[1;33m)\u001b[0m\u001b[1;33m)\u001b[0m\u001b[1;33m\u001b[0m\u001b[1;33m\u001b[0m\u001b[0m\n\u001b[1;32m----> 2\u001b[1;33m \u001b[0mprint\u001b[0m\u001b[1;33m(\u001b[0m\u001b[0mlen\u001b[0m\u001b[1;33m(\u001b[0m\u001b[0mvertices\u001b[0m\u001b[1;33m[\u001b[0m\u001b[1;36m0\u001b[0m\u001b[1;33m]\u001b[0m\u001b[1;33m.\u001b[0m\u001b[0mtracks\u001b[0m\u001b[1;33m)\u001b[0m\u001b[1;33m)\u001b[0m\u001b[1;33m\u001b[0m\u001b[1;33m\u001b[0m\u001b[0m\n\u001b[0m\u001b[0;32m      3\u001b[0m \u001b[0mprint\u001b[0m\u001b[1;33m(\u001b[0m\u001b[0mvertices\u001b[0m\u001b[1;33m[\u001b[0m\u001b[1;36m0\u001b[0m\u001b[1;33m]\u001b[0m\u001b[1;33m)\u001b[0m\u001b[1;33m\u001b[0m\u001b[1;33m\u001b[0m\u001b[0m\n",
      "\u001b[1;31mIndexError\u001b[0m: list index out of range"
     ]
    }
   ],
   "source": [
    "print(len(vertices))\n",
    "print(len(vertices[0].tracks))\n",
    "print(vertices[0])"
   ]
  },
  {
   "cell_type": "code",
   "execution_count": null,
   "id": "efaf1135",
   "metadata": {},
   "outputs": [],
   "source": [
    "def root_hits_extractor_tracks(Tree, entry):\n",
    "    Tree.GetEntry(entry)\n",
    "    c2list = lambda x: np.array([x.at(i) for i in range(x.size())])\n",
    "\n",
    "    Digi_layer = c2list(Tree.Digi_layer_id)\n",
    "    # Only select hits in tracking layer\n",
    "    mask = (Digi_layer>1) & (Digi_layer<=5) \n",
    "\n",
    "    Digi_x = c2list(Tree.Digi_x)[mask]\n",
    "    Digi_y = c2list(Tree.Digi_y)[mask]\n",
    "    Digi_z = c2list(Tree.Digi_z)[mask]\n",
    "    Digi_t = c2list(Tree.Digi_time)[mask]\n",
    "    Digi_track_id = c2list(Tree.Digi_track_id)[mask]\n",
    "    Digi_layer = Digi_layer[mask]\n",
    "    Hits = Util.hit.make_hits(Digi_x, Digi_y, Digi_z, Digi_t, Digi_layer)\n",
    "\n",
    "    track_ids = np.unique(Digi_track_id)\n",
    "    track_hits  = {}\n",
    "    for trackid in track_ids:\n",
    "        mask = Digi_track_id==trackid\n",
    "        hit_group = []\n",
    "        for i in np.flatnonzero(mask):\n",
    "            hit_group.append(Hits[i])\n",
    "        track_hits[int(trackid)] = hit_group\n",
    "\n",
    "    return track_hits"
   ]
  }
 ],
 "metadata": {
  "kernelspec": {
   "display_name": "Python 3 (ipykernel)",
   "language": "python",
   "name": "python3"
  },
  "language_info": {
   "codemirror_mode": {
    "name": "ipython",
    "version": 3
   },
   "file_extension": ".py",
   "mimetype": "text/x-python",
   "name": "python",
   "nbconvert_exporter": "python",
   "pygments_lexer": "ipython3",
   "version": "3.7.9"
  }
 },
 "nbformat": 4,
 "nbformat_minor": 5
}
