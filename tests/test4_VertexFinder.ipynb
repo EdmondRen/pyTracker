{
 "cells": [
  {
   "cell_type": "code",
   "execution_count": 1,
   "id": "04255863",
   "metadata": {},
   "outputs": [],
   "source": [
    "try:\n",
    "    from tqdm import tqdm\n",
    "except ImportError:\n",
    "    def tqdm(iterator, *args, **kwargs):\n",
    "        return iterator\n",
    "    \n",
    "import numpy as np\n",
    "import scipy as sp\n",
    "from scipy import constants\n",
    "from pylab import *\n",
    "import joblib\n",
    "\n",
    "\n",
    "import os,sys\n",
    "from importlib import reload\n",
    "import copy\n",
    "from collections import namedtuple\n",
    "\n",
    "sys.path.append(\"../tracker\")"
   ]
  },
  {
   "cell_type": "code",
   "execution_count": 100,
   "id": "e99d309e",
   "metadata": {},
   "outputs": [
    {
     "data": {
      "text/plain": [
       "<module 'utilities' from '../tracker\\\\utilities.py'>"
      ]
     },
     "execution_count": 100,
     "metadata": {},
     "output_type": "execute_result"
    }
   ],
   "source": [
    "import kalmanfilter as KF\n",
    "import utilities as Util\n",
    "import datatypes\n",
    "import vertexfinder as VF\n",
    "\n",
    "reload(VF)\n",
    "reload(Util)"
   ]
  },
  {
   "cell_type": "code",
   "execution_count": 122,
   "id": "3c2adcdc",
   "metadata": {},
   "outputs": [],
   "source": [
    "tracks=joblib.load(\"tracks_example.joblib\")\n",
    "# tracks"
   ]
  },
  {
   "cell_type": "code",
   "execution_count": 123,
   "id": "e365373d",
   "metadata": {},
   "outputs": [
    {
     "name": "stdout",
     "output_type": "stream",
     "text": [
      "  * Seed failed, chi2 too large. Seed fit result valid: True, seed chi2 224.4766206462133\n",
      "  * Seed failed, chi2 too large. Seed fit result valid: True, seed chi2 246.94584116660818\n",
      "  * Seed failed, chi2 too large. Seed fit result valid: True, seed chi2 220.07270776033693\n",
      "VertexSeed(x0=-578.0353366613854, y0=9094.274013072441, z0=9687.192225030522, t0=1.1846629027488689, cov=0, chi2=61.11502594626965, dist=136.58953846594773, Ntracks=3, trackind1=1, trackind2=4, score=687.7397979286442)\n",
      "VertexSeed(x0=-586.0247244795755, y0=9137.768474756449, z0=9487.596636163857, t0=-2.1234605708937693, cov=0, chi2=34.71566635666947, dist=95.3281299324227, Ntracks=3, trackind1=0, trackind2=3, score=382.4847934991175)\n",
      "VertexSeed(x0=-2486.057862523172, y0=16416.764163499043, z0=15812.204107968268, t0=356.28684239175175, cov=0, chi2=0.1248929079226955, dist=157.5630980352432, Ntracks=0, trackind1=3, trackind2=4, score=158.81202711447017)\n",
      "VertexSeed(x0=-635.4174960152013, y0=9291.675878161375, z0=9544.730824169485, t0=6.63217101743686, cov=0, chi2=5.6659808180942, dist=118.7493773617314, Ntracks=3, trackind1=2, trackind2=3, score=115.40918554267341)\n",
      "VertexSeed(x0=-536.5211447950132, y0=8685.858429637898, z0=9330.785053388958, t0=-16.38338055873885, cov=0, chi2=0.46225959702971875, dist=120.3536730018397, Ntracks=3, trackind1=0, trackind2=2, score=64.97626897213688)\n",
      "VertexSeed(x0=-551.4744530945027, y0=8836.263625187436, z0=9385.363078454728, t0=-9.609327596840046, cov=0, chi2=0.3962714013894575, dist=78.1378306797822, Ntracks=3, trackind1=2, trackind2=4, score=22.100544693676767)\n",
      "VertexSeed(x0=-544.0039065446617, y0=8831.365538271886, z0=9386.336125854505, t0=-12.139935473082915, cov=0, chi2=0.15419974055635396, dist=50.08075317430052, Ntracks=3, trackind1=0, trackind2=4, score=-8.37724942013594)\n",
      "\n",
      "--- New seed for vertex --- \n",
      "  Seed VertexSeed(x0=-544.0039065446617, y0=8831.365538271886, z0=9386.336125854505, t0=-12.139935473082915, cov=0, chi2=0.15419974055635396, dist=50.08075317430052, Ntracks=3, trackind1=0, trackind2=4, score=-8.37724942013594)\n",
      " -> Track [2] added to vertex. Vertex chi2_r 0.20; vertex chi2 increment 0.86. Track: (-702.6150629486561, 9893.0, 9762.791625920867, 31.55623664925401, -0.13770708920138622, 1, 0.35811390566169016, 0.037638812232537656)\n",
      "  * Track [3] removed from vertex fit. Fit valid: True; vertex chi2_r 8.36; vertex chi2 increment 65.85\n",
      "  * Track [1] removed from vertex fit. Fit valid: True; vertex chi2_r 38.16; vertex chi2 increment 304.27\n",
      "Vertex found! track indices: [0, 4, 2]\n",
      "  Tracks to vertex chi2: [0.29939460905633547, 0.014968967263941115, 0.4300589511188438]\n",
      "  Vertex Chi2: 1.011645464886222; N tracks: 3; x0,y0,z0,t0: [-547.29933798 8828.66232462 9383.58469863  -11.00424335]; Uncertainty: [11.08078279 44.26032644 21.71606691  3.25393989]\n"
     ]
    }
   ],
   "source": [
    "vf = VF.VertexFitter(debug=True)\n",
    "vf.parameters[\"cut_vertex_SeedDist\"]=400\n",
    "vf.parameters[\"cut_vertex_SeedChi2\"]=70\n",
    "vf.parameters[\"cut_vertex_TrackAddDist\"]=400\n",
    "vf.parameters[\"cut_vertex_TrackAddChi2\"]=30\n",
    "vf.parameters[\"cut_vertex_VertexChi2ReducedAdd\"]=10\n",
    "vf.parameters[\"cut_vertex_TrackDropChi2\"]=10\n",
    "vf.parameters[\"cut_vertex_VertexChi2Reduced\"]=7\n",
    "vertices = vf.run(tracks)\n",
    "# %timeit -n 2 vf.run(tracks)"
   ]
  },
  {
   "cell_type": "code",
   "execution_count": 5,
   "id": "8162b83b",
   "metadata": {},
   "outputs": [
    {
     "data": {
      "text/plain": [
       "(-10.14, -2.3286372144236522, 8.060485559221853)"
      ]
     },
     "execution_count": 5,
     "metadata": {},
     "output_type": "execute_result"
    }
   ],
   "source": [
    "0.01*(7936-7000-1950), 0.01*(-232.8637214423652), 0.01*(9353.048555922185-8547) "
   ]
  },
  {
   "cell_type": "code",
   "execution_count": 73,
   "id": "88457e13",
   "metadata": {},
   "outputs": [
    {
     "name": "stdout",
     "output_type": "stream",
     "text": [
      "2\n",
      "2\n",
      "Vertex(x0=-649.9167151794827, y0=9906.574094961747, z0=8070.179198291444, t0=25.90788430005091, cov=array([[ 4.42680516, -3.30055983, -2.87583721, -0.17609746],\n",
      "       [-3.30055983, 29.45890874, 25.69419688,  1.53109803],\n",
      "       [-2.87583721, 25.69419688, 23.13227709,  1.33534974],\n",
      "       [-0.17609746,  1.53109803,  1.33534974,  0.23973228]]), chi2=4.738571173841444, tracks=[Track(x0=-648.7028237543482, y0=9893.0, z0=8060.536999074531, t0=25.984422723838517, Ax=-0.136342258426605, Ay=1, Az=0.722864565260557, At=0.044877987055319146, cov=array([[ 5.19082555e+00, -1.70543517e-03, -1.63515358e-02,\n",
      "        -3.36819351e-02,  6.91610841e-04,  4.06706676e-04],\n",
      "       [-1.70543517e-03,  1.67975225e+00,  1.22475512e-05,\n",
      "         2.12267083e-05, -1.03428163e-02, -2.28354917e-07],\n",
      "       [-1.63515358e-02,  1.22475512e-05,  3.50105241e-01,\n",
      "         2.03839919e-04, -5.77634034e-07, -1.84977902e-03],\n",
      "       [-3.36819351e-02,  2.12267083e-05,  2.03839919e-04,\n",
      "         2.92440886e-04, -8.63569709e-06, -5.07236871e-06],\n",
      "       [ 6.91610841e-04, -1.03428163e-02, -5.77634034e-07,\n",
      "        -8.63569709e-06,  1.87756586e-04,  1.45305196e-08],\n",
      "       [ 4.06706676e-04, -2.28354917e-07, -1.84977902e-03,\n",
      "        -5.07236871e-06,  1.45305196e-08,  1.52282373e-05]]), chi2=11.710133259397448, ind=3, hits=[26, 27, 30, 29], hits_filtered=[[-682.0983002976001, 10136.599999999999, 8237.51234841658, 36.924209907144046], [-670.8608591756429, 10055.400000000001, 8178.139231487741, 33.273676309077054], [-659.7738151385886, 9974.2, 8119.233601773689, 29.628515272730464], [-648.7028237543482, 9893.0, 8060.536999074531, 25.984422723838517]]), Track(x0=-642.28792499723, y0=9893.0, z0=8056.118287769519, t0=24.27985462415164, Ax=0.11604479312391139, Ay=1, Az=1.0230715577620992, At=0.06324828957350015, cov=array([[ 9.19926574e+01,  9.37275476e-05, -7.56317037e-03,\n",
      "        -1.11259140e+00, -2.47414734e-04,  2.79427477e-04],\n",
      "       [ 9.37275476e-05,  1.68358688e+00,  2.02823937e-05,\n",
      "        -1.17592166e-06, -1.04524734e-02, -7.49349520e-07],\n",
      "       [-7.56317037e-03,  2.02823937e-05,  4.16812740e-01,\n",
      "         9.48888145e-05, -5.35398947e-05, -3.08421453e-03],\n",
      "       [-1.11259140e+00, -1.17592166e-06,  9.48888145e-05,\n",
      "         1.37028236e-02,  3.10410709e-06, -3.50574438e-06],\n",
      "       [-2.47414734e-04, -1.04524734e-02, -5.35398947e-05,\n",
      "         3.10410709e-06,  2.90214779e-04,  1.97807493e-06],\n",
      "       [ 2.79427477e-04, -7.49349520e-07, -3.08421453e-03,\n",
      "        -3.50574438e-06,  1.97807493e-06,  3.81158637e-05]]), chi2=5.297203671661513, ind=7, hits=[20, 21, 18], hits_filtered=[[-623.5191063361262, 10055.400000000001, 8222.587883081815, 34.55909767083621], [-632.8650877955683, 9974.2, 8139.191698259801, 29.415615737519897], [-642.28792499723, 9893.0, 8056.118287769519, 24.27985462415164]])])\n"
     ]
    }
   ],
   "source": [
    "print(len(vertices))\n",
    "print(len(vertices[0].tracks))\n",
    "print(vertices[0])"
   ]
  }
 ],
 "metadata": {
  "kernelspec": {
   "display_name": "Python 3 (ipykernel)",
   "language": "python",
   "name": "python3"
  },
  "language_info": {
   "codemirror_mode": {
    "name": "ipython",
    "version": 3
   },
   "file_extension": ".py",
   "mimetype": "text/x-python",
   "name": "python",
   "nbconvert_exporter": "python",
   "pygments_lexer": "ipython3",
   "version": "3.7.9"
  }
 },
 "nbformat": 4,
 "nbformat_minor": 5
}
