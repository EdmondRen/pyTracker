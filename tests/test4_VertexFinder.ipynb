{
 "cells": [
  {
   "cell_type": "code",
   "execution_count": 1,
   "id": "04255863",
   "metadata": {},
   "outputs": [],
   "source": [
    "try:\n",
    "    from tqdm import tqdm\n",
    "except ImportError:\n",
    "    def tqdm(iterator, *args, **kwargs):\n",
    "        return iterator\n",
    "    \n",
    "import numpy as np\n",
    "import scipy as sp\n",
    "from scipy import constants\n",
    "from pylab import *\n",
    "import joblib\n",
    "\n",
    "\n",
    "import os,sys\n",
    "from importlib import reload\n",
    "import copy\n",
    "from collections import namedtuple\n",
    "\n",
    "sys.path.append(\"../tracker\")"
   ]
  },
  {
   "cell_type": "code",
   "execution_count": 193,
   "id": "e99d309e",
   "metadata": {},
   "outputs": [
    {
     "data": {
      "text/plain": [
       "<module 'utilities' from '../tracker\\\\utilities.py'>"
      ]
     },
     "execution_count": 193,
     "metadata": {},
     "output_type": "execute_result"
    }
   ],
   "source": [
    "import kalmanfilter as KF\n",
    "import utilities as Util\n",
    "import datatypes\n",
    "import vertexfinder as VF\n",
    "\n",
    "reload(VF)\n",
    "reload(Util)"
   ]
  },
  {
   "cell_type": "code",
   "execution_count": 204,
   "id": "3c2adcdc",
   "metadata": {},
   "outputs": [],
   "source": [
    "tracks=joblib.load(\"tracks_example.joblib\")\n",
    "# tracks"
   ]
  },
  {
   "cell_type": "code",
   "execution_count": 207,
   "id": "e365373d",
   "metadata": {},
   "outputs": [
    {
     "name": "stdout",
     "output_type": "stream",
     "text": [
      "VertexSeed(x0=694.1101749650073, y0=9574.74801130732, z0=9003.587337266003, t0=3.300594043692026, cov=0, chi2=73.84963520498309, dist=126.8861882757568, Ntracks=5, trackind1=0, trackind2=7, score=2082.411942800803)\n",
      "VertexSeed(x0=703.1974988454831, y0=9547.382079407675, z0=8955.339203987269, t0=1.527055869364827, cov=0, chi2=29.74569690303885, dist=114.73431506392902, Ntracks=5, trackind1=5, trackind2=7, score=1942.8917832957382)\n",
      "VertexSeed(x0=702.0285664560897, y0=9627.416780009311, z0=9145.00169169731, t0=4.700390869811811, cov=0, chi2=34.374336753019854, dist=98.69811355577785, Ntracks=5, trackind1=1, trackind2=3, score=1926.7314749150885)\n",
      "VertexSeed(x0=699.2576518275425, y0=9589.027249315197, z0=9106.6188861388, t0=6.213863439326124, cov=0, chi2=3.420680257287523, dist=112.3942433722316, Ntracks=5, trackind1=3, trackind2=7, score=1870.6459849873136)\n",
      "VertexSeed(x0=759.3348217852675, y0=9757.613766606144, z0=9183.875447490878, t0=10.518501727158053, cov=0, chi2=3.0441696104370406, dist=39.81073631293291, Ntracks=4, trackind1=1, trackind2=4, score=1853.7189649971272)\n",
      "VertexSeed(x0=599.1199272159012, y0=9936.267013901877, z0=9260.755066817597, t0=19.595539995849432, cov=0, chi2=0.19334278761348006, dist=7.559117919964848, Ntracks=4, trackind1=2, trackind2=4, score=1811.1392950479071)\n",
      "VertexSeed(x0=628.3559081089786, y0=9839.033291607779, z0=9228.232858549243, t0=15.223967173769598, cov=0, chi2=21.098439973985386, dist=11.034335907939713, Ntracks=5, trackind1=0, trackind2=5, score=1802.5587364386286)\n",
      "--- New seed for vertex --- \n",
      "  Seed VertexSeed(x0=628.3559081089786, y0=9839.033291607779, z0=9228.232858549243, t0=15.223967173769598, cov=0, chi2=21.098439973985386, dist=11.034335907939713, Ntracks=5, trackind1=0, trackind2=5, score=1802.5587364386286)\n",
      " -> Track [2] added to vertex. Vertex chi2_r 0.78; vertex chi2 increment 3.75. Track: (607.2778110705318, 9893.0, 9227.338896615256, 18.227478646989628, -0.1297248905350268, 1, 0.7723942361699605, 0.03315626483153554)\n",
      "  * Track [6] removed from vertex fit. Fit valid: True; vertex chi2_r 82.53; vertex chi2 increment 656.37\n",
      " -> Track [3] added to vertex. Vertex chi2_r 1.28; vertex chi2 increment 6.32. Track: (449.63226758396115, 9893.0, 9550.573324126177, 25.731603808542804, -0.780136080926037, 1, 1.420925923510112, 0.06912702980763348)\n",
      " -> Track [4] added to vertex. Vertex chi2_r 2.26; vertex chi2 increment 14.71. Track: (633.2034094568266, 9893.0, 9240.782902133544, 17.478560864874105, -0.8148074859784799, 1, 0.4753066235886994, 0.04676029479018737)\n",
      "  * Track [1] removed from vertex fit. Fit valid: True; vertex chi2_r 5.18; vertex chi2 increment 47.59\n",
      " -> Track [7] added to vertex. Vertex chi2_r 2.05; vertex chi2 increment 3.85. Track: (607.8149179770074, 9893.0, 9888.74591089817, 36.323692477931274, -0.37100737444266657, 1, 2.533445870331482, 0.09247504657368213)\n",
      "Vertex found! track indices: [0, 5, 2, 3, 4, 7] \n",
      " Chi2_r: 2.0542771113259417; <ValueView x0=681.2112271532387 y0=9498.08392891458 z0=8944.881054864149 t0=-33.429191318240896>\n"
     ]
    }
   ],
   "source": [
    "vf = VF.VertexFitter(debug=True)\n",
    "vf.parameters[\"cut_vertex_SeedDist\"]=300\n",
    "vf.parameters[\"cut_vertex_SeedChi2\"]=80\n",
    "vf.parameters[\"cut_vertex_TrackAddDist\"]=300\n",
    "vf.parameters[\"cut_vertex_TrackAddChi2\"]=20\n",
    "vf.parameters[\"cut_vertex_VertexChi2Reduced\"]=5\n",
    "vertices = vf.run(tracks)\n",
    "# %timeit -n 2 vf.run(tracks)"
   ]
  },
  {
   "cell_type": "code",
   "execution_count": 182,
   "id": "8162b83b",
   "metadata": {},
   "outputs": [
    {
     "data": {
      "text/plain": [
       "(-15.88, -2.3286372144236522, 12.380485559221853)"
      ]
     },
     "execution_count": 182,
     "metadata": {},
     "output_type": "execute_result"
    }
   ],
   "source": [
    "0.01*(7362-7000-1950), 0.01*(-232.8637214423652), 0.01*(9785.048555922185-8547) "
   ]
  },
  {
   "cell_type": "code",
   "execution_count": 69,
   "id": "88457e13",
   "metadata": {},
   "outputs": [
    {
     "name": "stdout",
     "output_type": "stream",
     "text": [
      "0\n"
     ]
    },
    {
     "ename": "IndexError",
     "evalue": "list index out of range",
     "output_type": "error",
     "traceback": [
      "\u001b[1;31m---------------------------------------------------------------------------\u001b[0m",
      "\u001b[1;31mIndexError\u001b[0m                                Traceback (most recent call last)",
      "\u001b[1;32m~\\AppData\\Local\\Temp/ipykernel_37740/1727417991.py\u001b[0m in \u001b[0;36m<module>\u001b[1;34m\u001b[0m\n\u001b[0;32m      1\u001b[0m \u001b[0mprint\u001b[0m\u001b[1;33m(\u001b[0m\u001b[0mlen\u001b[0m\u001b[1;33m(\u001b[0m\u001b[0mvertices\u001b[0m\u001b[1;33m)\u001b[0m\u001b[1;33m)\u001b[0m\u001b[1;33m\u001b[0m\u001b[1;33m\u001b[0m\u001b[0m\n\u001b[1;32m----> 2\u001b[1;33m \u001b[0mprint\u001b[0m\u001b[1;33m(\u001b[0m\u001b[0mlen\u001b[0m\u001b[1;33m(\u001b[0m\u001b[0mvertices\u001b[0m\u001b[1;33m[\u001b[0m\u001b[1;36m0\u001b[0m\u001b[1;33m]\u001b[0m\u001b[1;33m.\u001b[0m\u001b[0mtracks\u001b[0m\u001b[1;33m)\u001b[0m\u001b[1;33m)\u001b[0m\u001b[1;33m\u001b[0m\u001b[1;33m\u001b[0m\u001b[0m\n\u001b[0m\u001b[0;32m      3\u001b[0m \u001b[0mprint\u001b[0m\u001b[1;33m(\u001b[0m\u001b[0mvertices\u001b[0m\u001b[1;33m[\u001b[0m\u001b[1;36m0\u001b[0m\u001b[1;33m]\u001b[0m\u001b[1;33m)\u001b[0m\u001b[1;33m\u001b[0m\u001b[1;33m\u001b[0m\u001b[0m\n",
      "\u001b[1;31mIndexError\u001b[0m: list index out of range"
     ]
    }
   ],
   "source": [
    "print(len(vertices))\n",
    "print(len(vertices[0].tracks))\n",
    "print(vertices[0])"
   ]
  },
  {
   "cell_type": "code",
   "execution_count": null,
   "id": "efaf1135",
   "metadata": {},
   "outputs": [],
   "source": [
    "def root_hits_extractor_tracks(Tree, entry):\n",
    "    Tree.GetEntry(entry)\n",
    "    c2list = lambda x: np.array([x.at(i) for i in range(x.size())])\n",
    "\n",
    "    Digi_layer = c2list(Tree.Digi_layer_id)\n",
    "    # Only select hits in tracking layer\n",
    "    mask = (Digi_layer>1) & (Digi_layer<=5) \n",
    "\n",
    "    Digi_x = c2list(Tree.Digi_x)[mask]\n",
    "    Digi_y = c2list(Tree.Digi_y)[mask]\n",
    "    Digi_z = c2list(Tree.Digi_z)[mask]\n",
    "    Digi_t = c2list(Tree.Digi_time)[mask]\n",
    "    Digi_track_id = c2list(Tree.Digi_track_id)[mask]\n",
    "    Digi_layer = Digi_layer[mask]\n",
    "    Hits = Util.hit.make_hits(Digi_x, Digi_y, Digi_z, Digi_t, Digi_layer)\n",
    "\n",
    "    track_ids = np.unique(Digi_track_id)\n",
    "    track_hits  = {}\n",
    "    for trackid in track_ids:\n",
    "        mask = Digi_track_id==trackid\n",
    "        hit_group = []\n",
    "        for i in np.flatnonzero(mask):\n",
    "            hit_group.append(Hits[i])\n",
    "        track_hits[int(trackid)] = hit_group\n",
    "\n",
    "    return track_hits"
   ]
  }
 ],
 "metadata": {
  "kernelspec": {
   "display_name": "Python 3 (ipykernel)",
   "language": "python",
   "name": "python3"
  },
  "language_info": {
   "codemirror_mode": {
    "name": "ipython",
    "version": 3
   },
   "file_extension": ".py",
   "mimetype": "text/x-python",
   "name": "python",
   "nbconvert_exporter": "python",
   "pygments_lexer": "ipython3",
   "version": "3.7.9"
  }
 },
 "nbformat": 4,
 "nbformat_minor": 5
}
