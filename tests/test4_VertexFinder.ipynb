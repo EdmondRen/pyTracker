{
 "cells": [
  {
   "cell_type": "code",
   "execution_count": 350,
   "id": "04255863",
   "metadata": {},
   "outputs": [],
   "source": [
    "try:\n",
    "    from tqdm import tqdm\n",
    "except ImportError:\n",
    "    def tqdm(iterator, *args, **kwargs):\n",
    "        return iterator\n",
    "    \n",
    "import numpy as np\n",
    "import scipy as sp\n",
    "from scipy import constants\n",
    "from pylab import *\n",
    "import joblib\n",
    "\n",
    "\n",
    "import os,sys\n",
    "from importlib import reload\n",
    "import copy\n",
    "from collections import namedtuple\n",
    "\n",
    "sys.path.append(\"../tracker\")"
   ]
  },
  {
   "cell_type": "code",
   "execution_count": 446,
   "id": "e99d309e",
   "metadata": {},
   "outputs": [
    {
     "data": {
      "text/plain": [
       "<module 'utilities' from '../tracker\\\\utilities.py'>"
      ]
     },
     "execution_count": 446,
     "metadata": {},
     "output_type": "execute_result"
    }
   ],
   "source": [
    "import kalmanfilter as KF\n",
    "import utilities as Util\n",
    "import datatypes\n",
    "import vertexfinder as VF\n",
    "\n",
    "reload(VF)\n",
    "reload(Util)"
   ]
  },
  {
   "cell_type": "code",
   "execution_count": 447,
   "id": "3c2adcdc",
   "metadata": {},
   "outputs": [],
   "source": [
    "tracks=joblib.load(\"tracks_example.joblib\")\n",
    "# tracks"
   ]
  },
  {
   "cell_type": "code",
   "execution_count": 448,
   "id": "e365373d",
   "metadata": {},
   "outputs": [
    {
     "name": "stdout",
     "output_type": "stream",
     "text": [
      "VertexSeed(x0=679.7482783257758, y0=9605.483785357, z0=9151.568419679435, t0=0.4354665348242172, cov=0, chi2=2.210014581381644, dist=29.30723332334358, Ntracks=5, trackind1=2, trackind2=4, score=-163.0904609598083)\n",
      "VertexSeed(x0=597.5517140344605, y0=9935.814636957602, z0=9258.436363462984, t0=19.58529095199822, cov=0, chi2=10.99797101501477, dist=11.381890994358741, Ntracks=6, trackind1=3, trackind2=5, score=-172.18654268877532)\n",
      "VertexSeed(x0=756.0199503730873, y0=9754.627568559928, z0=9185.702323854148, t0=9.576534352771185, cov=0, chi2=5.362188633343829, dist=31.56754453229704, Ntracks=6, trackind1=2, trackind2=5, score=-196.25325867283604)\n",
      "VertexSeed(x0=627.7295802301745, y0=9783.64123205372, z0=9182.130471300981, t0=10.730049485203436, cov=0, chi2=0.6520801863614727, dist=4.816505324608115, Ntracks=5, trackind1=0, trackind2=6, score=-221.01669108788101)\n",
      "--- New seed for vertex --- \n",
      "  Seed VertexSeed(x0=627.7295802301745, y0=9783.64123205372, z0=9182.130471300981, t0=10.730049485203436, cov=0, chi2=0.6520801863614727, dist=4.816505324608115, Ntracks=5, trackind1=0, trackind2=6, score=-221.01669108788101)\n",
      " -> Track [3] added to vertex. Vertex chi2_r 0.71; vertex chi2 increment 3.54. Track: (589.112716450621, 9893.0, 9227.247956555128, 18.366910777160676, 0.09658235431248963, 1, 0.6534672574112592, 0.025968249651085226)\n",
      "  * Track [5] removed from vertex fit. Fit valid: True; vertex chi2_r 4.55; vertex chi2 increment 32.85\n",
      "  * Track [2] removed from vertex fit. Fit valid: True; vertex chi2_r 15.04; vertex chi2 increment 116.74\n",
      "  * Track [4] removed from vertex fit. Fit valid: True; vertex chi2_r 3.57; vertex chi2 increment 25.03\n",
      "  * Track [1] removed from vertex fit. Fit valid: True; vertex chi2_r 58.89; vertex chi2 increment 467.52\n",
      "  * Track [7] removed from vertex fit. Fit valid: True; vertex chi2_r 3.19; vertex chi2 increment 21.99\n",
      "  * Track [8] removed from vertex fit. Fit valid: False; vertex chi2_r 368.67; vertex chi2 increment 2945.83\n",
      "Vertex found! track indices: [0, 6, 3] \n",
      " Chi2_r: 0.7128164932088996; <ValueView x0=612.3329356317408 y0=9689.846721714595 z0=9098.143776037483 t0=3.4202618859096674>; Uncertainty: <ErrorView x0=19.43036744388519 y0=22.24076833466097 z0=17.52308428057586 t0=9.729773610576075>\n",
      "[0.17664854946549696, 0.3876586005443562, 1.5429258154329388]\n",
      "--- New seed for vertex --- \n",
      "  Seed VertexSeed(x0=756.0199503730873, y0=9754.627568559928, z0=9185.702323854148, t0=9.576534352771185, cov=0, chi2=5.362188633343829, dist=31.56754453229704, Ntracks=6, trackind1=2, trackind2=5, score=-196.25325867283604)\n",
      "  * Track [4] removed from vertex fit. Fit valid: True; vertex chi2_r 6.31; vertex chi2 increment 27.68\n",
      " -> Track [7] added to vertex. Vertex chi2_r 4.64; vertex chi2 increment 19.29. Track: (607.7773890513399, 9893.0, 9882.708060572757, 36.35118178967598, -0.4441658866886668, 1, 2.5876214803487727, 0.09223395806869361)\n",
      "  * Track [1] removed from vertex fit. Fit valid: True; vertex chi2_r 129.42; vertex chi2 increment 1012.18\n",
      "  * Track [8] removed from vertex fit. Fit valid: True; vertex chi2_r 521.04; vertex chi2 increment 4145.11\n",
      "Vertex found! track indices: [2, 5, 7] \n",
      " Chi2_r: 4.635188262785755; <ValueView x0=796.2214001743414 y0=9593.443639203251 z0=9101.634502024011 t0=10.965741557001081>; Uncertainty: <ErrorView x0=18.5868814987698 y0=9.641140668914886 z0=10.556203231259133 t0=6.039621092477148>\n",
      "[11.229077183507432, 4.158479135655969, 1.0882694606224856]\n"
     ]
    }
   ],
   "source": [
    "vf = VF.VertexFitter(debug=True)\n",
    "vf.parameters[\"cut_vertex_SeedDist\"]=300\n",
    "vf.parameters[\"cut_vertex_SeedChi2\"]=80\n",
    "vf.parameters[\"cut_vertex_TrackAddDist\"]=400\n",
    "vf.parameters[\"cut_vertex_TrackAddChi2\"]=20\n",
    "vf.parameters[\"cut_vertex_VertexChi2Reduced\"]=5\n",
    "vertices = vf.run(tracks)\n",
    "# %timeit -n 2 vf.run(tracks)"
   ]
  },
  {
   "cell_type": "code",
   "execution_count": 374,
   "id": "8162b83b",
   "metadata": {},
   "outputs": [
    {
     "data": {
      "text/plain": [
       "(-6.82, -2.3286372144236522, 12.200485559221852)"
      ]
     },
     "execution_count": 374,
     "metadata": {},
     "output_type": "execute_result"
    }
   ],
   "source": [
    "0.01*(8268-7000-1950), 0.01*(-232.8637214423652), 0.01*(9767.048555922185-8547) "
   ]
  },
  {
   "cell_type": "code",
   "execution_count": 346,
   "id": "618385ac",
   "metadata": {},
   "outputs": [
    {
     "data": {
      "text/plain": [
       "array([[ 0,  2,  3],\n",
       "       [ 4,  6,  7],\n",
       "       [ 8, 10, 11]])"
      ]
     },
     "execution_count": 346,
     "metadata": {},
     "output_type": "execute_result"
    }
   ],
   "source": [
    "a = np.arange(12).reshape(3, 4)\n",
    "a=np.delete(a,1,1)\n",
    "a"
   ]
  },
  {
   "cell_type": "code",
   "execution_count": 225,
   "id": "8dc4cd8d",
   "metadata": {},
   "outputs": [
    {
     "name": "stdout",
     "output_type": "stream",
     "text": [
      "VertexSeed(x0=1536.5600320110157, y0=9992.427721483778, z0=8784.920632986477, t0=33.33790722903861, cov=0, chi2=437.82408752639026, dist=31.968644348683398, Ntracks=2, trackind1=1, trackind2=3, score=3216.662200236268)\n",
      "VertexSeed(x0=1734.013672091936, y0=9429.909252519275, z0=8545.44635221018, t0=16.030296489700333, cov=0, chi2=207.40646764452572, dist=285.23683359276754, Ntracks=4, trackind1=0, trackind2=4, score=2620.9434655892483)\n",
      "VertexSeed(x0=1783.3276336190756, y0=9354.352436207884, z0=8525.770335535966, t0=6.0958211977818495, cov=0, chi2=137.34888492667358, dist=236.0373471188554, Ntracks=4, trackind1=0, trackind2=5, score=2368.3386387990186)\n",
      "VertexSeed(x0=1747.8801863129324, y0=9439.664891002585, z0=8567.625140058612, t0=16.522588285757593, cov=0, chi2=100.34584502621013, dist=274.647252874764, Ntracks=4, trackind1=2, trackind2=4, score=2298.8162323590323)\n",
      "VertexSeed(x0=1723.5795808915252, y0=9427.414186431231, z0=8580.601104572499, t0=16.71596305531981, cov=0, chi2=79.17248273070703, dist=247.2815903414225, Ntracks=4, trackind1=1, trackind2=4, score=2213.2405603753455)\n",
      "VertexSeed(x0=1718.1427562454483, y0=9385.801420602234, z0=8576.897910517626, t0=9.29183964985628, cov=0, chi2=49.88161591776333, dist=203.9900438220119, Ntracks=4, trackind1=1, trackind2=5, score=2085.021950279952)\n",
      "VertexSeed(x0=1702.1249912356732, y0=9552.356620639555, z0=8557.440447245703, t0=16.151175339960332, cov=0, chi2=37.05400816248989, dist=59.49549516801385, Ntracks=3, trackind1=0, trackind2=1, score=1931.7681696821355)\n",
      "VertexSeed(x0=1656.4846997052828, y0=9651.845546648286, z0=8590.52942324206, t0=18.68033933321597, cov=0, chi2=15.474539529871624, dist=80.34554783236149, Ntracks=2, trackind1=0, trackind2=3, score=1923.2659571209088)\n",
      "VertexSeed(x0=1731.3089258665036, y0=9540.822231173775, z0=8543.177968019278, t0=14.922360992543409, cov=0, chi2=19.346531571530175, dist=42.70905013022918, Ntracks=3, trackind1=0, trackind2=2, score=1864.7866472474518)\n",
      "VertexSeed(x0=1727.5173469339602, y0=9294.010140163176, z0=8555.199576186918, t0=3.699482260695953, cov=0, chi2=3.6300706337514836, dist=68.53913849916158, Ntracks=4, trackind1=2, trackind2=5, score=1821.6954537706897)\n",
      "VertexSeed(x0=1833.9308069489134, y0=9129.346569590307, z0=8380.838240935678, t0=-6.662388802188102, cov=0, chi2=0.6313371814911509, dist=70.85549231215441, Ntracks=4, trackind1=3, trackind2=5, score=1813.3224398498103)\n",
      "VertexSeed(x0=1721.474504329567, y0=9471.677365742129, z0=8548.020700589714, t0=10.979928346934726, cov=0, chi2=6.753900037712729, dist=68.91308572708357, Ntracks=4, trackind1=2, trackind2=3, score=1810.1868729240637)\n",
      "VertexSeed(x0=1731.76185111806, y0=9492.172206552643, z0=8556.088692219288, t0=13.849587493045679, cov=0, chi2=1.2362243698417588, dist=41.94937359530967, Ntracks=4, trackind1=1, trackind2=2, score=1769.233154479068)\n",
      "--- New seed for vertex --- \n",
      "  Seed VertexSeed(x0=1734.013672091936, y0=9429.909252519275, z0=8545.44635221018, t0=16.030296489700333, cov=0, chi2=207.40646764452572, dist=285.23683359276754, Ntracks=4, trackind1=0, trackind2=4, score=2620.9434655892483)\n",
      " -> Track [5] added to vertex. Vertex chi2_r 0.20; vertex chi2 increment 0.57. Track: (1360.8225925319161, 9893.0, 9105.904513194186, 37.86089525501905, -0.6402008858763624, 1, 0.9423561598576107, 0.06010520605654644)\n",
      " -> Track [1] added to vertex. Vertex chi2_r 1.68; vertex chi2 increment 12.43. Track: (1561.002048028047, 9893.0, 8749.233916975012, 29.94643727377626, -0.3898536825482425, 1, 0.4701053662228454, 0.03831455492130193)\n",
      " -> Track [3] added to vertex. Vertex chi2_r 1.56; vertex chi2 increment 3.72. Track: (1581.833488018583, 9893.0, 8726.68948881319, 28.41691244421963, -0.31908035571570004, 1, 0.47404639824523787, 0.04459889002362258)\n",
      "  * Track [2] removed from vertex fit. Fit valid: True; vertex chi2_r 3.80; vertex chi2 increment 36.01\n",
      "Vertex found! track indices: [0, 4, 5, 1, 3] \n",
      " Chi2_r: 1.5604414945026683; <ValueView x0=2136.9365762550005 y0=9026.907457121095 z0=8361.774959408081 t0=45.688422000516994>\n"
     ]
    },
    {
     "data": {
      "text/plain": [
       "([Track(x0=1470.5162963471469, y0=9893.0, z0=8663.711930106769, t0=30.34514892468058, Ax=-0.7233473125408418, Ay=1, Az=0.4009607241621104, At=0.0441857786928669, cov=array([[ 8.81791739e+00, -4.75069699e-03, -1.23053554e-01,\n",
       "          -1.77599790e-01, -9.33899498e-02,  1.98510467e-04],\n",
       "         [-4.75069699e-03,  1.70573858e+00,  9.03466257e-03,\n",
       "           2.06269777e-03, -5.24052365e-03, -1.20133776e-03],\n",
       "         [-1.23053554e-01,  9.03466257e-03,  8.94465700e-01,\n",
       "           5.58355082e-05,  4.71491724e-02, -1.19283982e-01],\n",
       "         [-1.77599790e-01,  2.06269777e-03,  5.58355082e-05,\n",
       "           2.32752594e-02,  1.42879870e-02,  5.68408153e-03],\n",
       "         [-9.33899498e-02, -5.24052365e-03,  4.71491724e-02,\n",
       "           1.42879870e-02,  1.37208151e-02, -7.87587725e-03],\n",
       "         [ 1.98510467e-04, -1.20133776e-03, -1.19283982e-01,\n",
       "           5.68408153e-03, -7.87587725e-03,  2.99055075e-02]]), chi2=5.342780844951934, ind=0, hits=[0, 1, 3, 4], hits_filtered=[[1470.5162963471469, 9893.0, 8663.711930106769, 30.34514892468058], [1411.78049456883, 9974.2, 8696.269940908733, 33.9330341545414], [1353.5054992758405, 10055.400000000001, 8728.819979904569, 37.408481402916145], [1303.721670070024, 10136.599999999999, 8766.371268003997, 40.173143627473834]]),\n",
       "  Track(x0=1334.7712924754833, y0=9893.0, z0=9191.304298786195, t0=41.28179995652805, Ax=-0.7113728880530963, Ay=1, Az=1.053158355617772, At=0.041931265209953834, cov=array([[ 2.51587814e+01,  5.81196307e-02, -7.04123888e-01,\n",
       "          -4.50499797e-01, -1.32452225e-01,  5.95703153e-03],\n",
       "         [ 5.81196307e-02,  1.92472582e+00,  5.09335965e-02,\n",
       "           1.56822161e-03, -5.67792669e-03, -3.97478103e-03],\n",
       "         [-7.04123888e-01,  5.09335965e-02,  2.12634337e+00,\n",
       "           1.26310713e-03,  1.93333662e-01, -1.87073228e-01],\n",
       "         [-4.50499797e-01,  1.56822161e-03,  1.26310713e-03,\n",
       "           3.69826354e-02,  1.14199124e-02,  1.19283171e-02],\n",
       "         [-1.32452225e-01, -5.67792669e-03,  1.93333662e-01,\n",
       "           1.14199124e-02,  2.60112888e-02, -1.68733272e-02],\n",
       "         [ 5.95703153e-03, -3.97478103e-03, -1.87073228e-01,\n",
       "           1.19283171e-02, -1.68733272e-02,  2.41782057e-02]]), chi2=3.4577053579895014, ind=4, hits=[30, 31, 32, 33], hits_filtered=[[1334.7712924754833, 9893.0, 9191.304298786195, 41.28179995652805], [1277.0078139655714, 9974.2, 9276.82075726236, 44.68661869157633], [1219.4087291239812, 10055.400000000001, 9362.338085655474, 48.20288164518923], [1164.7362010209097, 10136.599999999999, 9447.575630276408, 53.32714912592862]]),\n",
       "  Track(x0=1360.8225925319161, y0=9893.0, z0=9105.904513194186, t0=37.86089525501905, Ax=-0.6402008858763624, Ay=1, Az=0.9423561598576107, At=0.06010520605654644, cov=array([[ 2.21394539e+01,  7.91865046e-02, -5.46596657e-01,\n",
       "          -3.93366234e-01, -1.04755124e-01,  8.25970484e-03],\n",
       "         [ 7.91865046e-02,  1.96688614e+00,  3.75173295e-02,\n",
       "           9.82498015e-04, -7.47591205e-03, -3.29884273e-03],\n",
       "         [-5.46596657e-01,  3.75173295e-02,  1.67772040e+00,\n",
       "           1.85442244e-03,  1.51201343e-01, -1.64074622e-01],\n",
       "         [-3.93366234e-01,  9.82498015e-04,  1.85442244e-03,\n",
       "           3.48678217e-02,  1.09092103e-02,  1.01535324e-02],\n",
       "         [-1.04755124e-01, -7.47591205e-03,  1.51201343e-01,\n",
       "           1.09092103e-02,  2.22013300e-02, -1.60219851e-02],\n",
       "         [ 8.25970484e-03, -3.29884273e-03, -1.64074622e-01,\n",
       "           1.01535324e-02, -1.60219851e-02,  2.40231268e-02]]), chi2=6.762715313540733, ind=5, hits=[6, 7, 8, 9], hits_filtered=[[1360.8225925319161, 9893.0, 9105.904513194186, 37.86089525501905], [1308.838280598755, 9974.2, 9182.423833374625, 42.741437986810666], [1257.0473426760316, 10055.400000000001, 9258.927786235741, 47.09698993158792], [1205.1797519881336, 10136.599999999999, 9339.642343545602, 48.736912027340054]]),\n",
       "  Track(x0=1561.002048028047, y0=9893.0, z0=8749.233916975012, t0=29.94643727377626, Ax=-0.3898536825482425, Ay=1, Az=0.4701053662228454, At=0.03831455492130193, cov=array([[ 2.01698084e+01,  6.07771033e-02, -5.97712745e-02,\n",
       "          -3.09482905e-01, -3.80944795e-02,  6.50168940e-04],\n",
       "         [ 6.07771033e-02,  1.69755943e+00,  6.32192351e-03,\n",
       "           2.25140392e-04, -9.41226999e-03, -1.25415364e-03],\n",
       "         [-5.97712745e-02,  6.32192351e-03,  7.83929723e-01,\n",
       "           6.40280606e-05,  4.41212919e-02, -9.70338027e-02],\n",
       "         [-3.09482905e-01,  2.25140392e-04,  6.40280606e-05,\n",
       "           2.88430066e-02,  8.41244704e-03,  3.93782346e-03],\n",
       "         [-3.80944795e-02, -9.41226999e-03,  4.41212919e-02,\n",
       "           8.41244704e-03,  8.15690658e-03, -1.01217296e-02],\n",
       "         [ 6.50168940e-04, -1.25415364e-03, -9.70338027e-02,\n",
       "           3.93782346e-03, -1.01217296e-02,  2.48434024e-02]]), chi2=2.0522457104080747, ind=1, hits=[26, 27, 28, 29], hits_filtered=[[1561.002048028047, 9893.0, 8749.233916975012, 29.94643727377626], [1529.3459290051294, 9974.2, 8787.406472712308, 33.05757913338601], [1497.6948030728677, 10055.400000000001, 8825.57913136154, 36.18707797176453], [1466.2071346923096, 10136.599999999999, 8863.682471857637, 39.74485389899023]]),\n",
       "  Track(x0=1581.833488018583, y0=9893.0, z0=8726.68948881319, t0=28.41691244421963, Ax=-0.31908035571570004, Ay=1, Az=0.47404639824523787, At=0.04459889002362258, cov=array([[ 2.46641968e+01,  2.06843872e-03, -4.37004881e-02,\n",
       "          -3.62446070e-01, -2.90180148e-02,  1.13838351e-04],\n",
       "         [ 2.06843872e-03,  1.74774620e+00,  7.42657296e-03,\n",
       "           7.67576074e-04, -9.85572765e-03, -1.24835746e-03],\n",
       "         [-4.37004881e-02,  7.42657296e-03,  7.67192981e-01,\n",
       "           1.19746384e-05,  4.29236821e-02, -9.37615020e-02],\n",
       "         [-3.62446070e-01,  7.67576074e-04,  1.19746384e-05,\n",
       "           3.00419795e-02,  6.98075164e-03,  3.30702892e-03],\n",
       "         [-2.90180148e-02, -9.85572765e-03,  4.29236821e-02,\n",
       "           6.98075164e-03,  7.27033551e-03, -1.03689806e-02],\n",
       "         [ 1.13838351e-04, -1.24835746e-03, -9.37615020e-02,\n",
       "           3.30702892e-03, -1.03689806e-02,  2.41413020e-02]]), chi2=8.597834416271347, ind=3, hits=[18, 19, 20, 21], hits_filtered=[[1581.833488018583, 9893.0, 8726.68948881319, 28.41691244421963], [1555.924163134468, 9974.2, 8765.182056350704, 32.038342314137815], [1529.7766527151507, 10055.400000000001, 8803.6747580588, 35.65537184773922], [1497.8552241027276, 10136.599999999999, 8842.082242381357, 39.12313413812512]])],\n",
       " ┌─────────────────────────────────────────────────────────────────────────┐\n",
       "│                                Migrad                                   │\n",
       "├──────────────────────────────────┬──────────────────────────────────────┤\n",
       "│ FCN = 17.16                      │              Nfcn = 94               │\n",
       "│ EDM = 1.57e-05 (Goal: 0.0002)    │                                      │\n",
       "├──────────────────────────────────┼──────────────────────────────────────┤\n",
       "│          Valid Minimum           │        No Parameters at limit        │\n",
       "├──────────────────────────────────┼──────────────────────────────────────┤\n",
       "│ Below EDM threshold (goal x 10)  │           Below call limit           │\n",
       "├───────────────┬──────────────────┼───────────┬─────────────┬────────────┤\n",
       "│  Covariance   │     Hesse ok     │ Accurate  │  Pos. def.  │ Not forced │\n",
       "└───────────────┴──────────────────┴───────────┴─────────────┴────────────┘\n",
       "┌───┬──────┬───────────┬───────────┬────────────┬────────────┬─────────┬─────────┬───────┐\n",
       "│   │ Name │   Value   │ Hesse Err │ Minos Err- │ Minos Err+ │ Limit-  │ Limit+  │ Fixed │\n",
       "├───┼──────┼───────────┼───────────┼────────────┼────────────┼─────────┼─────────┼───────┤\n",
       "│ 0 │ x0   │  2.14e3   │  0.07e3   │            │            │ -100000 │ 100000  │       │\n",
       "│ 1 │ y0   │  9.03e3   │  0.07e3   │            │            │ -100000 │ 100000  │       │\n",
       "│ 2 │ z0   │  8.362e3  │  0.030e3  │            │            │ -100000 │ 100000  │       │\n",
       "│ 3 │ t0   │    50     │    60     │            │            │  -500   │ 100000  │       │\n",
       "└───┴──────┴───────────┴───────────┴────────────┴────────────┴─────────┴─────────┴───────┘\n",
       "┌────┬─────────────────────────────────────────┐\n",
       "│    │        x0        y0        z0        t0 │\n",
       "├────┼─────────────────────────────────────────┤\n",
       "│ x0 │  4.86e+03 -3.59e+03       316 -1.97e+03 │\n",
       "│ y0 │ -3.59e+03  4.44e+03       525  2.85e+03 │\n",
       "│ z0 │       316       525       896      -382 │\n",
       "│ t0 │ -1.97e+03  2.85e+03      -382  3.51e+03 │\n",
       "└────┴─────────────────────────────────────────┘)"
      ]
     },
     "execution_count": 225,
     "metadata": {},
     "output_type": "execute_result"
    }
   ],
   "source": [
    "vf = VF.VertexFitter(debug=True)\n",
    "vf.parameters[\"cut_vertex_SeedDist\"]=300\n",
    "vf.parameters[\"cut_vertex_SeedChi2\"]=800\n",
    "vf.parameters[\"cut_vertex_TrackAddDist\"]=300\n",
    "vf.parameters[\"cut_vertex_TrackAddChi2\"]=15\n",
    "vf.parameters[\"cut_vertex_VertexChi2Reduced\"]=5\n",
    "\n",
    "seeds = vf.seeding(tracks)\n",
    "vf.tracks_remaining = copy.copy(tracks)\n",
    "for i, seed in enumerate(seeds):\n",
    "    print(seed)\n",
    "vf.find_once(tracks, seeds[1])"
   ]
  },
  {
   "cell_type": "code",
   "execution_count": 69,
   "id": "88457e13",
   "metadata": {},
   "outputs": [
    {
     "name": "stdout",
     "output_type": "stream",
     "text": [
      "0\n"
     ]
    },
    {
     "ename": "IndexError",
     "evalue": "list index out of range",
     "output_type": "error",
     "traceback": [
      "\u001b[1;31m---------------------------------------------------------------------------\u001b[0m",
      "\u001b[1;31mIndexError\u001b[0m                                Traceback (most recent call last)",
      "\u001b[1;32m~\\AppData\\Local\\Temp/ipykernel_37740/1727417991.py\u001b[0m in \u001b[0;36m<module>\u001b[1;34m\u001b[0m\n\u001b[0;32m      1\u001b[0m \u001b[0mprint\u001b[0m\u001b[1;33m(\u001b[0m\u001b[0mlen\u001b[0m\u001b[1;33m(\u001b[0m\u001b[0mvertices\u001b[0m\u001b[1;33m)\u001b[0m\u001b[1;33m)\u001b[0m\u001b[1;33m\u001b[0m\u001b[1;33m\u001b[0m\u001b[0m\n\u001b[1;32m----> 2\u001b[1;33m \u001b[0mprint\u001b[0m\u001b[1;33m(\u001b[0m\u001b[0mlen\u001b[0m\u001b[1;33m(\u001b[0m\u001b[0mvertices\u001b[0m\u001b[1;33m[\u001b[0m\u001b[1;36m0\u001b[0m\u001b[1;33m]\u001b[0m\u001b[1;33m.\u001b[0m\u001b[0mtracks\u001b[0m\u001b[1;33m)\u001b[0m\u001b[1;33m)\u001b[0m\u001b[1;33m\u001b[0m\u001b[1;33m\u001b[0m\u001b[0m\n\u001b[0m\u001b[0;32m      3\u001b[0m \u001b[0mprint\u001b[0m\u001b[1;33m(\u001b[0m\u001b[0mvertices\u001b[0m\u001b[1;33m[\u001b[0m\u001b[1;36m0\u001b[0m\u001b[1;33m]\u001b[0m\u001b[1;33m)\u001b[0m\u001b[1;33m\u001b[0m\u001b[1;33m\u001b[0m\u001b[0m\n",
      "\u001b[1;31mIndexError\u001b[0m: list index out of range"
     ]
    }
   ],
   "source": [
    "print(len(vertices))\n",
    "print(len(vertices[0].tracks))\n",
    "print(vertices[0])"
   ]
  },
  {
   "cell_type": "code",
   "execution_count": null,
   "id": "efaf1135",
   "metadata": {},
   "outputs": [],
   "source": [
    "def root_hits_extractor_tracks(Tree, entry):\n",
    "    Tree.GetEntry(entry)\n",
    "    c2list = lambda x: np.array([x.at(i) for i in range(x.size())])\n",
    "\n",
    "    Digi_layer = c2list(Tree.Digi_layer_id)\n",
    "    # Only select hits in tracking layer\n",
    "    mask = (Digi_layer>1) & (Digi_layer<=5) \n",
    "\n",
    "    Digi_x = c2list(Tree.Digi_x)[mask]\n",
    "    Digi_y = c2list(Tree.Digi_y)[mask]\n",
    "    Digi_z = c2list(Tree.Digi_z)[mask]\n",
    "    Digi_t = c2list(Tree.Digi_time)[mask]\n",
    "    Digi_track_id = c2list(Tree.Digi_track_id)[mask]\n",
    "    Digi_layer = Digi_layer[mask]\n",
    "    Hits = Util.hit.make_hits(Digi_x, Digi_y, Digi_z, Digi_t, Digi_layer)\n",
    "\n",
    "    track_ids = np.unique(Digi_track_id)\n",
    "    track_hits  = {}\n",
    "    for trackid in track_ids:\n",
    "        mask = Digi_track_id==trackid\n",
    "        hit_group = []\n",
    "        for i in np.flatnonzero(mask):\n",
    "            hit_group.append(Hits[i])\n",
    "        track_hits[int(trackid)] = hit_group\n",
    "\n",
    "    return track_hits"
   ]
  }
 ],
 "metadata": {
  "kernelspec": {
   "display_name": "Python 3 (ipykernel)",
   "language": "python",
   "name": "python3"
  },
  "language_info": {
   "codemirror_mode": {
    "name": "ipython",
    "version": 3
   },
   "file_extension": ".py",
   "mimetype": "text/x-python",
   "name": "python",
   "nbconvert_exporter": "python",
   "pygments_lexer": "ipython3",
   "version": "3.7.9"
  }
 },
 "nbformat": 4,
 "nbformat_minor": 5
}
