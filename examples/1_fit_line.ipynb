{
 "cells": [
  {
   "cell_type": "code",
   "execution_count": null,
   "metadata": {},
   "outputs": [],
   "source": [
    "import tracker.kalmanfilter as KF\n",
    "import tracker.utilities as Util\n",
    "\n",
    "kf = Util.track.run_kf(hits)\n",
    "x0,z0,t0,Ax,Az,At = kf.Xsm[0][:]"
   ]
  }
 ],
 "metadata": {
  "language_info": {
   "name": "python"
  }
 },
 "nbformat": 4,
 "nbformat_minor": 2
}
